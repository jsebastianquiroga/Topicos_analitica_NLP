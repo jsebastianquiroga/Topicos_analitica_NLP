{
  "cells": [
    {
      "cell_type": "markdown",
      "metadata": {
        "id": "ct87_-IE4kbY"
      },
      "source": [
        "# <img style=\"float: center; padding-right: 10px;\" src=\"https://www.pikpng.com/pngl/b/467-4670553_universidad-javeriana-esslingen-am-neckar-clipart.png\" width=\"100\" height=\"150\">\n",
        "\n",
        "\n",
        "\n",
        "<h1> <strong>Tópicos avanzados en analítica - NLP.</strong></h1> \n",
        "<h2> Para: Jaime Andrés Vargas Cruz.</br></h2>\n",
        "<h2>Integrantes:</br></h2>\n",
        "<h2>Andres Guillermo Molano.</br></h2>\n",
        "<h2>Juan Sebastián Quiroga Bernal. </h2>\n",
        "<h2>Leonardo H. García.</br></h2>"
      ]
    },
    {
      "cell_type": "code",
      "execution_count": 16,
      "metadata": {
        "id": "-ne4ZCTO4kbd"
      },
      "outputs": [
        {
          "name": "stdout",
          "output_type": "stream",
          "text": [
            "/home/andres/Insync/Ing Andres Molano 8 Agosto/Personal/Maestria/Topicos Avanzados/nlp\n"
          ]
        }
      ],
      "source": [
        "import os\n",
        "import sys\n",
        "\n",
        "## Esta Parte se debe ajustar en cada entorno usando el path local de cada desarrollador. \n",
        "path_local_dir='/home/andres/Insync/Ing Andres Molano 8 Agosto/Personal/Maestria/Topicos Avanzados/nlp' \n",
        "print(path_local_dir)\n",
        "sys.path.append(path_local_dir)"
      ]
    },
    {
      "cell_type": "code",
      "execution_count": 21,
      "metadata": {},
      "outputs": [],
      "source": [
        "import root\n",
        "import numpy as np\n",
        "import pandas as pd\n",
        "import re\n",
        "import csv\n",
        "import json\n",
        "import matplotlib.pyplot as plt\n",
        "import plotly.express as px\n",
        "import seaborn as sns\n",
        "from collections import Counter\n",
        "\n"
      ]
    },
    {
      "cell_type": "code",
      "execution_count": 23,
      "metadata": {
        "colab": {
          "base_uri": "https://localhost:8080/",
          "height": 424
        },
        "id": "xj88vCJK63Pq",
        "outputId": "ab61f9c7-c84a-4a55-a2cb-fb802b04254f"
      },
      "outputs": [
        {
          "data": {
            "text/html": [
              "<div>\n",
              "<style scoped>\n",
              "    .dataframe tbody tr th:only-of-type {\n",
              "        vertical-align: middle;\n",
              "    }\n",
              "\n",
              "    .dataframe tbody tr th {\n",
              "        vertical-align: top;\n",
              "    }\n",
              "\n",
              "    .dataframe thead th {\n",
              "        text-align: right;\n",
              "    }\n",
              "</style>\n",
              "<table border=\"1\" class=\"dataframe\">\n",
              "  <thead>\n",
              "    <tr style=\"text-align: right;\">\n",
              "      <th></th>\n",
              "      <th>Wiki_ID</th>\n",
              "      <th>Freebase_ID</th>\n",
              "      <th>Title</th>\n",
              "      <th>Author</th>\n",
              "      <th>Pub_date</th>\n",
              "      <th>Genres</th>\n",
              "      <th>Summary</th>\n",
              "    </tr>\n",
              "  </thead>\n",
              "  <tbody>\n",
              "    <tr>\n",
              "      <th>0</th>\n",
              "      <td>620</td>\n",
              "      <td>/m/0hhy</td>\n",
              "      <td>Animal Farm</td>\n",
              "      <td>George Orwell</td>\n",
              "      <td>1945-08-17</td>\n",
              "      <td>{\"/m/016lj8\": \"Roman \\u00e0 clef\", \"/m/06nbt\":...</td>\n",
              "      <td>Old Major, the old boar on the Manor Farm, ca...</td>\n",
              "    </tr>\n",
              "    <tr>\n",
              "      <th>1</th>\n",
              "      <td>843</td>\n",
              "      <td>/m/0k36</td>\n",
              "      <td>A Clockwork Orange</td>\n",
              "      <td>Anthony Burgess</td>\n",
              "      <td>1962</td>\n",
              "      <td>{\"/m/06n90\": \"Science Fiction\", \"/m/0l67h\": \"N...</td>\n",
              "      <td>Alex, a teenager living in near-future Englan...</td>\n",
              "    </tr>\n",
              "    <tr>\n",
              "      <th>2</th>\n",
              "      <td>986</td>\n",
              "      <td>/m/0ldx</td>\n",
              "      <td>The Plague</td>\n",
              "      <td>Albert Camus</td>\n",
              "      <td>1947</td>\n",
              "      <td>{\"/m/02m4t\": \"Existentialism\", \"/m/02xlf\": \"Fi...</td>\n",
              "      <td>The text of The Plague is divided into five p...</td>\n",
              "    </tr>\n",
              "    <tr>\n",
              "      <th>3</th>\n",
              "      <td>1756</td>\n",
              "      <td>/m/0sww</td>\n",
              "      <td>An Enquiry Concerning Human Understanding</td>\n",
              "      <td>David Hume</td>\n",
              "      <td>NaN</td>\n",
              "      <td>NaN</td>\n",
              "      <td>The argument of the Enquiry proceeds by a ser...</td>\n",
              "    </tr>\n",
              "    <tr>\n",
              "      <th>4</th>\n",
              "      <td>2080</td>\n",
              "      <td>/m/0wkt</td>\n",
              "      <td>A Fire Upon the Deep</td>\n",
              "      <td>Vernor Vinge</td>\n",
              "      <td>NaN</td>\n",
              "      <td>{\"/m/03lrw\": \"Hard science fiction\", \"/m/06n90...</td>\n",
              "      <td>The novel posits that space around the Milky ...</td>\n",
              "    </tr>\n",
              "    <tr>\n",
              "      <th>...</th>\n",
              "      <td>...</td>\n",
              "      <td>...</td>\n",
              "      <td>...</td>\n",
              "      <td>...</td>\n",
              "      <td>...</td>\n",
              "      <td>...</td>\n",
              "      <td>...</td>\n",
              "    </tr>\n",
              "    <tr>\n",
              "      <th>16554</th>\n",
              "      <td>36934824</td>\n",
              "      <td>/m/0m0p0hr</td>\n",
              "      <td>Under Wildwood</td>\n",
              "      <td>Colin Meloy</td>\n",
              "      <td>2012-09-25</td>\n",
              "      <td>NaN</td>\n",
              "      <td>Prue McKeel, having rescued her brother from ...</td>\n",
              "    </tr>\n",
              "    <tr>\n",
              "      <th>16555</th>\n",
              "      <td>37054020</td>\n",
              "      <td>/m/04f1nbs</td>\n",
              "      <td>Transfer of Power</td>\n",
              "      <td>Vince Flynn</td>\n",
              "      <td>2000-06-01</td>\n",
              "      <td>{\"/m/01jfsb\": \"Thriller\", \"/m/02xlf\": \"Fiction\"}</td>\n",
              "      <td>The reader first meets Rapp while he is doing...</td>\n",
              "    </tr>\n",
              "    <tr>\n",
              "      <th>16556</th>\n",
              "      <td>37122323</td>\n",
              "      <td>/m/0n5236t</td>\n",
              "      <td>Decoded</td>\n",
              "      <td>Jay-Z</td>\n",
              "      <td>2010-11-16</td>\n",
              "      <td>{\"/m/0xdf\": \"Autobiography\"}</td>\n",
              "      <td>The book follows very rough chronological ord...</td>\n",
              "    </tr>\n",
              "    <tr>\n",
              "      <th>16557</th>\n",
              "      <td>37132319</td>\n",
              "      <td>/m/0n4bqb1</td>\n",
              "      <td>America Again: Re-becoming The Greatness We Ne...</td>\n",
              "      <td>Stephen Colbert</td>\n",
              "      <td>2012-10-02</td>\n",
              "      <td>NaN</td>\n",
              "      <td>Colbert addresses topics including Wall Stree...</td>\n",
              "    </tr>\n",
              "    <tr>\n",
              "      <th>16558</th>\n",
              "      <td>37159503</td>\n",
              "      <td>/m/073nkd</td>\n",
              "      <td>Poor Folk</td>\n",
              "      <td>Fyodor Dostoyevsky</td>\n",
              "      <td>1846</td>\n",
              "      <td>{\"/m/02ql9\": \"Epistolary novel\", \"/m/014dfn\": ...</td>\n",
              "      <td>Makar Devushkin and Varvara Dobroselova are s...</td>\n",
              "    </tr>\n",
              "  </tbody>\n",
              "</table>\n",
              "<p>16559 rows × 7 columns</p>\n",
              "</div>"
            ],
            "text/plain": [
              "        Wiki_ID Freebase_ID  \\\n",
              "0           620     /m/0hhy   \n",
              "1           843     /m/0k36   \n",
              "2           986     /m/0ldx   \n",
              "3          1756     /m/0sww   \n",
              "4          2080     /m/0wkt   \n",
              "...         ...         ...   \n",
              "16554  36934824  /m/0m0p0hr   \n",
              "16555  37054020  /m/04f1nbs   \n",
              "16556  37122323  /m/0n5236t   \n",
              "16557  37132319  /m/0n4bqb1   \n",
              "16558  37159503   /m/073nkd   \n",
              "\n",
              "                                                   Title              Author  \\\n",
              "0                                            Animal Farm       George Orwell   \n",
              "1                                     A Clockwork Orange     Anthony Burgess   \n",
              "2                                             The Plague        Albert Camus   \n",
              "3              An Enquiry Concerning Human Understanding          David Hume   \n",
              "4                                   A Fire Upon the Deep        Vernor Vinge   \n",
              "...                                                  ...                 ...   \n",
              "16554                                     Under Wildwood         Colin Meloy   \n",
              "16555                                  Transfer of Power         Vince Flynn   \n",
              "16556                                            Decoded               Jay-Z   \n",
              "16557  America Again: Re-becoming The Greatness We Ne...     Stephen Colbert   \n",
              "16558                                          Poor Folk  Fyodor Dostoyevsky   \n",
              "\n",
              "         Pub_date                                             Genres  \\\n",
              "0      1945-08-17  {\"/m/016lj8\": \"Roman \\u00e0 clef\", \"/m/06nbt\":...   \n",
              "1            1962  {\"/m/06n90\": \"Science Fiction\", \"/m/0l67h\": \"N...   \n",
              "2            1947  {\"/m/02m4t\": \"Existentialism\", \"/m/02xlf\": \"Fi...   \n",
              "3             NaN                                                NaN   \n",
              "4             NaN  {\"/m/03lrw\": \"Hard science fiction\", \"/m/06n90...   \n",
              "...           ...                                                ...   \n",
              "16554  2012-09-25                                                NaN   \n",
              "16555  2000-06-01   {\"/m/01jfsb\": \"Thriller\", \"/m/02xlf\": \"Fiction\"}   \n",
              "16556  2010-11-16                       {\"/m/0xdf\": \"Autobiography\"}   \n",
              "16557  2012-10-02                                                NaN   \n",
              "16558        1846  {\"/m/02ql9\": \"Epistolary novel\", \"/m/014dfn\": ...   \n",
              "\n",
              "                                                 Summary  \n",
              "0       Old Major, the old boar on the Manor Farm, ca...  \n",
              "1       Alex, a teenager living in near-future Englan...  \n",
              "2       The text of The Plague is divided into five p...  \n",
              "3       The argument of the Enquiry proceeds by a ser...  \n",
              "4       The novel posits that space around the Milky ...  \n",
              "...                                                  ...  \n",
              "16554   Prue McKeel, having rescued her brother from ...  \n",
              "16555   The reader first meets Rapp while he is doing...  \n",
              "16556   The book follows very rough chronological ord...  \n",
              "16557   Colbert addresses topics including Wall Stree...  \n",
              "16558   Makar Devushkin and Varvara Dobroselova are s...  \n",
              "\n",
              "[16559 rows x 7 columns]"
            ]
          },
          "execution_count": 23,
          "metadata": {},
          "output_type": "execute_result"
        }
      ],
      "source": [
        "\n",
        "df_book_summaries = pd.read_csv(root.DIR_DATA+\"booksummaries.txt\", header=None, sep=\"\\t\", names=['Wiki_ID', 'Freebase_ID', 'Title', 'Author', 'Pub_date', 'Genres', 'Summary'])\n",
        "\n",
        "df_book_summaries"
      ]
    },
    {
      "cell_type": "code",
      "execution_count": 24,
      "metadata": {
        "colab": {
          "base_uri": "https://localhost:8080/"
        },
        "id": "tzhq8Djt4kbf",
        "outputId": "23cd80c9-234d-420b-8809-9375388b4322"
      },
      "outputs": [
        {
          "name": "stdout",
          "output_type": "stream",
          "text": [
            "<class 'pandas.core.frame.DataFrame'>\n",
            "RangeIndex: 16559 entries, 0 to 16558\n",
            "Data columns (total 7 columns):\n",
            " #   Column       Non-Null Count  Dtype \n",
            "---  ------       --------------  ----- \n",
            " 0   Wiki_ID      16559 non-null  int64 \n",
            " 1   Freebase_ID  16559 non-null  object\n",
            " 2   Title        16559 non-null  object\n",
            " 3   Author       14177 non-null  object\n",
            " 4   Pub_date     10949 non-null  object\n",
            " 5   Genres       12841 non-null  object\n",
            " 6   Summary      16559 non-null  object\n",
            "dtypes: int64(1), object(6)\n",
            "memory usage: 905.7+ KB\n"
          ]
        }
      ],
      "source": [
        "# Mostrar información sobre el DataFrame\n",
        "df_book_summaries.info()"
      ]
    },
    {
      "cell_type": "markdown",
      "metadata": {
        "id": "H6xCF9X--yKn"
      },
      "source": [
        "Se puede identificar desde la perspectiva de procesamiento de lenguaje natural, las variables como el titulo, genero y summary podria traer información en cada una de sus corporas que nos ayuden a "
      ]
    },
    {
      "cell_type": "code",
      "execution_count": 25,
      "metadata": {
        "colab": {
          "base_uri": "https://localhost:8080/",
          "height": 542
        },
        "id": "diwYpwgz4kbg",
        "outputId": "2ca96623-428d-41a3-cbae-23345d29583b"
      },
      "outputs": [
        {
          "data": {
            "application/vnd.plotly.v1+json": {
              "config": {
                "plotlyServerURL": "https://plot.ly"
              },
              "data": [
                {
                  "alignmentgroup": "True",
                  "hovertemplate": "index=%{x}<br>recuento_faltantes=%{y}<extra></extra>",
                  "legendgroup": "",
                  "marker": {
                    "color": "#636efa",
                    "pattern": {
                      "shape": ""
                    }
                  },
                  "name": "",
                  "offsetgroup": "",
                  "orientation": "v",
                  "showlegend": false,
                  "textposition": "auto",
                  "type": "bar",
                  "x": [
                    "Wiki_ID",
                    "Freebase_ID",
                    "Title",
                    "Author",
                    "Pub_date",
                    "Genres",
                    "Summary"
                  ],
                  "xaxis": "x",
                  "y": [
                    0,
                    0,
                    0,
                    2382,
                    5610,
                    3718,
                    0
                  ],
                  "yaxis": "y"
                }
              ],
              "layout": {
                "barmode": "relative",
                "legend": {
                  "tracegroupgap": 0
                },
                "template": {
                  "data": {
                    "bar": [
                      {
                        "error_x": {
                          "color": "#2a3f5f"
                        },
                        "error_y": {
                          "color": "#2a3f5f"
                        },
                        "marker": {
                          "line": {
                            "color": "#E5ECF6",
                            "width": 0.5
                          },
                          "pattern": {
                            "fillmode": "overlay",
                            "size": 10,
                            "solidity": 0.2
                          }
                        },
                        "type": "bar"
                      }
                    ],
                    "barpolar": [
                      {
                        "marker": {
                          "line": {
                            "color": "#E5ECF6",
                            "width": 0.5
                          },
                          "pattern": {
                            "fillmode": "overlay",
                            "size": 10,
                            "solidity": 0.2
                          }
                        },
                        "type": "barpolar"
                      }
                    ],
                    "carpet": [
                      {
                        "aaxis": {
                          "endlinecolor": "#2a3f5f",
                          "gridcolor": "white",
                          "linecolor": "white",
                          "minorgridcolor": "white",
                          "startlinecolor": "#2a3f5f"
                        },
                        "baxis": {
                          "endlinecolor": "#2a3f5f",
                          "gridcolor": "white",
                          "linecolor": "white",
                          "minorgridcolor": "white",
                          "startlinecolor": "#2a3f5f"
                        },
                        "type": "carpet"
                      }
                    ],
                    "choropleth": [
                      {
                        "colorbar": {
                          "outlinewidth": 0,
                          "ticks": ""
                        },
                        "type": "choropleth"
                      }
                    ],
                    "contour": [
                      {
                        "colorbar": {
                          "outlinewidth": 0,
                          "ticks": ""
                        },
                        "colorscale": [
                          [
                            0,
                            "#0d0887"
                          ],
                          [
                            0.1111111111111111,
                            "#46039f"
                          ],
                          [
                            0.2222222222222222,
                            "#7201a8"
                          ],
                          [
                            0.3333333333333333,
                            "#9c179e"
                          ],
                          [
                            0.4444444444444444,
                            "#bd3786"
                          ],
                          [
                            0.5555555555555556,
                            "#d8576b"
                          ],
                          [
                            0.6666666666666666,
                            "#ed7953"
                          ],
                          [
                            0.7777777777777778,
                            "#fb9f3a"
                          ],
                          [
                            0.8888888888888888,
                            "#fdca26"
                          ],
                          [
                            1,
                            "#f0f921"
                          ]
                        ],
                        "type": "contour"
                      }
                    ],
                    "contourcarpet": [
                      {
                        "colorbar": {
                          "outlinewidth": 0,
                          "ticks": ""
                        },
                        "type": "contourcarpet"
                      }
                    ],
                    "heatmap": [
                      {
                        "colorbar": {
                          "outlinewidth": 0,
                          "ticks": ""
                        },
                        "colorscale": [
                          [
                            0,
                            "#0d0887"
                          ],
                          [
                            0.1111111111111111,
                            "#46039f"
                          ],
                          [
                            0.2222222222222222,
                            "#7201a8"
                          ],
                          [
                            0.3333333333333333,
                            "#9c179e"
                          ],
                          [
                            0.4444444444444444,
                            "#bd3786"
                          ],
                          [
                            0.5555555555555556,
                            "#d8576b"
                          ],
                          [
                            0.6666666666666666,
                            "#ed7953"
                          ],
                          [
                            0.7777777777777778,
                            "#fb9f3a"
                          ],
                          [
                            0.8888888888888888,
                            "#fdca26"
                          ],
                          [
                            1,
                            "#f0f921"
                          ]
                        ],
                        "type": "heatmap"
                      }
                    ],
                    "heatmapgl": [
                      {
                        "colorbar": {
                          "outlinewidth": 0,
                          "ticks": ""
                        },
                        "colorscale": [
                          [
                            0,
                            "#0d0887"
                          ],
                          [
                            0.1111111111111111,
                            "#46039f"
                          ],
                          [
                            0.2222222222222222,
                            "#7201a8"
                          ],
                          [
                            0.3333333333333333,
                            "#9c179e"
                          ],
                          [
                            0.4444444444444444,
                            "#bd3786"
                          ],
                          [
                            0.5555555555555556,
                            "#d8576b"
                          ],
                          [
                            0.6666666666666666,
                            "#ed7953"
                          ],
                          [
                            0.7777777777777778,
                            "#fb9f3a"
                          ],
                          [
                            0.8888888888888888,
                            "#fdca26"
                          ],
                          [
                            1,
                            "#f0f921"
                          ]
                        ],
                        "type": "heatmapgl"
                      }
                    ],
                    "histogram": [
                      {
                        "marker": {
                          "pattern": {
                            "fillmode": "overlay",
                            "size": 10,
                            "solidity": 0.2
                          }
                        },
                        "type": "histogram"
                      }
                    ],
                    "histogram2d": [
                      {
                        "colorbar": {
                          "outlinewidth": 0,
                          "ticks": ""
                        },
                        "colorscale": [
                          [
                            0,
                            "#0d0887"
                          ],
                          [
                            0.1111111111111111,
                            "#46039f"
                          ],
                          [
                            0.2222222222222222,
                            "#7201a8"
                          ],
                          [
                            0.3333333333333333,
                            "#9c179e"
                          ],
                          [
                            0.4444444444444444,
                            "#bd3786"
                          ],
                          [
                            0.5555555555555556,
                            "#d8576b"
                          ],
                          [
                            0.6666666666666666,
                            "#ed7953"
                          ],
                          [
                            0.7777777777777778,
                            "#fb9f3a"
                          ],
                          [
                            0.8888888888888888,
                            "#fdca26"
                          ],
                          [
                            1,
                            "#f0f921"
                          ]
                        ],
                        "type": "histogram2d"
                      }
                    ],
                    "histogram2dcontour": [
                      {
                        "colorbar": {
                          "outlinewidth": 0,
                          "ticks": ""
                        },
                        "colorscale": [
                          [
                            0,
                            "#0d0887"
                          ],
                          [
                            0.1111111111111111,
                            "#46039f"
                          ],
                          [
                            0.2222222222222222,
                            "#7201a8"
                          ],
                          [
                            0.3333333333333333,
                            "#9c179e"
                          ],
                          [
                            0.4444444444444444,
                            "#bd3786"
                          ],
                          [
                            0.5555555555555556,
                            "#d8576b"
                          ],
                          [
                            0.6666666666666666,
                            "#ed7953"
                          ],
                          [
                            0.7777777777777778,
                            "#fb9f3a"
                          ],
                          [
                            0.8888888888888888,
                            "#fdca26"
                          ],
                          [
                            1,
                            "#f0f921"
                          ]
                        ],
                        "type": "histogram2dcontour"
                      }
                    ],
                    "mesh3d": [
                      {
                        "colorbar": {
                          "outlinewidth": 0,
                          "ticks": ""
                        },
                        "type": "mesh3d"
                      }
                    ],
                    "parcoords": [
                      {
                        "line": {
                          "colorbar": {
                            "outlinewidth": 0,
                            "ticks": ""
                          }
                        },
                        "type": "parcoords"
                      }
                    ],
                    "pie": [
                      {
                        "automargin": true,
                        "type": "pie"
                      }
                    ],
                    "scatter": [
                      {
                        "fillpattern": {
                          "fillmode": "overlay",
                          "size": 10,
                          "solidity": 0.2
                        },
                        "type": "scatter"
                      }
                    ],
                    "scatter3d": [
                      {
                        "line": {
                          "colorbar": {
                            "outlinewidth": 0,
                            "ticks": ""
                          }
                        },
                        "marker": {
                          "colorbar": {
                            "outlinewidth": 0,
                            "ticks": ""
                          }
                        },
                        "type": "scatter3d"
                      }
                    ],
                    "scattercarpet": [
                      {
                        "marker": {
                          "colorbar": {
                            "outlinewidth": 0,
                            "ticks": ""
                          }
                        },
                        "type": "scattercarpet"
                      }
                    ],
                    "scattergeo": [
                      {
                        "marker": {
                          "colorbar": {
                            "outlinewidth": 0,
                            "ticks": ""
                          }
                        },
                        "type": "scattergeo"
                      }
                    ],
                    "scattergl": [
                      {
                        "marker": {
                          "colorbar": {
                            "outlinewidth": 0,
                            "ticks": ""
                          }
                        },
                        "type": "scattergl"
                      }
                    ],
                    "scattermapbox": [
                      {
                        "marker": {
                          "colorbar": {
                            "outlinewidth": 0,
                            "ticks": ""
                          }
                        },
                        "type": "scattermapbox"
                      }
                    ],
                    "scatterpolar": [
                      {
                        "marker": {
                          "colorbar": {
                            "outlinewidth": 0,
                            "ticks": ""
                          }
                        },
                        "type": "scatterpolar"
                      }
                    ],
                    "scatterpolargl": [
                      {
                        "marker": {
                          "colorbar": {
                            "outlinewidth": 0,
                            "ticks": ""
                          }
                        },
                        "type": "scatterpolargl"
                      }
                    ],
                    "scatterternary": [
                      {
                        "marker": {
                          "colorbar": {
                            "outlinewidth": 0,
                            "ticks": ""
                          }
                        },
                        "type": "scatterternary"
                      }
                    ],
                    "surface": [
                      {
                        "colorbar": {
                          "outlinewidth": 0,
                          "ticks": ""
                        },
                        "colorscale": [
                          [
                            0,
                            "#0d0887"
                          ],
                          [
                            0.1111111111111111,
                            "#46039f"
                          ],
                          [
                            0.2222222222222222,
                            "#7201a8"
                          ],
                          [
                            0.3333333333333333,
                            "#9c179e"
                          ],
                          [
                            0.4444444444444444,
                            "#bd3786"
                          ],
                          [
                            0.5555555555555556,
                            "#d8576b"
                          ],
                          [
                            0.6666666666666666,
                            "#ed7953"
                          ],
                          [
                            0.7777777777777778,
                            "#fb9f3a"
                          ],
                          [
                            0.8888888888888888,
                            "#fdca26"
                          ],
                          [
                            1,
                            "#f0f921"
                          ]
                        ],
                        "type": "surface"
                      }
                    ],
                    "table": [
                      {
                        "cells": {
                          "fill": {
                            "color": "#EBF0F8"
                          },
                          "line": {
                            "color": "white"
                          }
                        },
                        "header": {
                          "fill": {
                            "color": "#C8D4E3"
                          },
                          "line": {
                            "color": "white"
                          }
                        },
                        "type": "table"
                      }
                    ]
                  },
                  "layout": {
                    "annotationdefaults": {
                      "arrowcolor": "#2a3f5f",
                      "arrowhead": 0,
                      "arrowwidth": 1
                    },
                    "autotypenumbers": "strict",
                    "coloraxis": {
                      "colorbar": {
                        "outlinewidth": 0,
                        "ticks": ""
                      }
                    },
                    "colorscale": {
                      "diverging": [
                        [
                          0,
                          "#8e0152"
                        ],
                        [
                          0.1,
                          "#c51b7d"
                        ],
                        [
                          0.2,
                          "#de77ae"
                        ],
                        [
                          0.3,
                          "#f1b6da"
                        ],
                        [
                          0.4,
                          "#fde0ef"
                        ],
                        [
                          0.5,
                          "#f7f7f7"
                        ],
                        [
                          0.6,
                          "#e6f5d0"
                        ],
                        [
                          0.7,
                          "#b8e186"
                        ],
                        [
                          0.8,
                          "#7fbc41"
                        ],
                        [
                          0.9,
                          "#4d9221"
                        ],
                        [
                          1,
                          "#276419"
                        ]
                      ],
                      "sequential": [
                        [
                          0,
                          "#0d0887"
                        ],
                        [
                          0.1111111111111111,
                          "#46039f"
                        ],
                        [
                          0.2222222222222222,
                          "#7201a8"
                        ],
                        [
                          0.3333333333333333,
                          "#9c179e"
                        ],
                        [
                          0.4444444444444444,
                          "#bd3786"
                        ],
                        [
                          0.5555555555555556,
                          "#d8576b"
                        ],
                        [
                          0.6666666666666666,
                          "#ed7953"
                        ],
                        [
                          0.7777777777777778,
                          "#fb9f3a"
                        ],
                        [
                          0.8888888888888888,
                          "#fdca26"
                        ],
                        [
                          1,
                          "#f0f921"
                        ]
                      ],
                      "sequentialminus": [
                        [
                          0,
                          "#0d0887"
                        ],
                        [
                          0.1111111111111111,
                          "#46039f"
                        ],
                        [
                          0.2222222222222222,
                          "#7201a8"
                        ],
                        [
                          0.3333333333333333,
                          "#9c179e"
                        ],
                        [
                          0.4444444444444444,
                          "#bd3786"
                        ],
                        [
                          0.5555555555555556,
                          "#d8576b"
                        ],
                        [
                          0.6666666666666666,
                          "#ed7953"
                        ],
                        [
                          0.7777777777777778,
                          "#fb9f3a"
                        ],
                        [
                          0.8888888888888888,
                          "#fdca26"
                        ],
                        [
                          1,
                          "#f0f921"
                        ]
                      ]
                    },
                    "colorway": [
                      "#636efa",
                      "#EF553B",
                      "#00cc96",
                      "#ab63fa",
                      "#FFA15A",
                      "#19d3f3",
                      "#FF6692",
                      "#B6E880",
                      "#FF97FF",
                      "#FECB52"
                    ],
                    "font": {
                      "color": "#2a3f5f"
                    },
                    "geo": {
                      "bgcolor": "white",
                      "lakecolor": "white",
                      "landcolor": "#E5ECF6",
                      "showlakes": true,
                      "showland": true,
                      "subunitcolor": "white"
                    },
                    "hoverlabel": {
                      "align": "left"
                    },
                    "hovermode": "closest",
                    "mapbox": {
                      "style": "light"
                    },
                    "paper_bgcolor": "white",
                    "plot_bgcolor": "#E5ECF6",
                    "polar": {
                      "angularaxis": {
                        "gridcolor": "white",
                        "linecolor": "white",
                        "ticks": ""
                      },
                      "bgcolor": "#E5ECF6",
                      "radialaxis": {
                        "gridcolor": "white",
                        "linecolor": "white",
                        "ticks": ""
                      }
                    },
                    "scene": {
                      "xaxis": {
                        "backgroundcolor": "#E5ECF6",
                        "gridcolor": "white",
                        "gridwidth": 2,
                        "linecolor": "white",
                        "showbackground": true,
                        "ticks": "",
                        "zerolinecolor": "white"
                      },
                      "yaxis": {
                        "backgroundcolor": "#E5ECF6",
                        "gridcolor": "white",
                        "gridwidth": 2,
                        "linecolor": "white",
                        "showbackground": true,
                        "ticks": "",
                        "zerolinecolor": "white"
                      },
                      "zaxis": {
                        "backgroundcolor": "#E5ECF6",
                        "gridcolor": "white",
                        "gridwidth": 2,
                        "linecolor": "white",
                        "showbackground": true,
                        "ticks": "",
                        "zerolinecolor": "white"
                      }
                    },
                    "shapedefaults": {
                      "line": {
                        "color": "#2a3f5f"
                      }
                    },
                    "ternary": {
                      "aaxis": {
                        "gridcolor": "white",
                        "linecolor": "white",
                        "ticks": ""
                      },
                      "baxis": {
                        "gridcolor": "white",
                        "linecolor": "white",
                        "ticks": ""
                      },
                      "bgcolor": "#E5ECF6",
                      "caxis": {
                        "gridcolor": "white",
                        "linecolor": "white",
                        "ticks": ""
                      }
                    },
                    "title": {
                      "x": 0.05
                    },
                    "xaxis": {
                      "automargin": true,
                      "gridcolor": "white",
                      "linecolor": "white",
                      "ticks": "",
                      "title": {
                        "standoff": 15
                      },
                      "zerolinecolor": "white",
                      "zerolinewidth": 2
                    },
                    "yaxis": {
                      "automargin": true,
                      "gridcolor": "white",
                      "linecolor": "white",
                      "ticks": "",
                      "title": {
                        "standoff": 15
                      },
                      "zerolinecolor": "white",
                      "zerolinewidth": 2
                    }
                  }
                },
                "title": {
                  "text": "Valores faltantes en la base de datos",
                  "x": 0.5
                },
                "xaxis": {
                  "anchor": "y",
                  "domain": [
                    0,
                    1
                  ],
                  "title": {
                    "text": "Columnas"
                  }
                },
                "yaxis": {
                  "anchor": "x",
                  "domain": [
                    0,
                    1
                  ],
                  "title": {
                    "text": "Recuento de valores faltantes"
                  }
                }
              }
            }
          },
          "metadata": {},
          "output_type": "display_data"
        }
      ],
      "source": [
        "# Crear un DataFrame con el número de valores faltantes en cada columna\n",
        "missing_values_df = pd.DataFrame(df_book_summaries.isna().sum(), columns=['recuento_faltantes'])\n",
        "\n",
        "# Crear un gráfico de barras del recuento de valores faltantes utilizando Plotly\n",
        "fig = px.bar(missing_values_df, x=missing_values_df.index, y='recuento_faltantes', \n",
        "             title='Valores faltantes en la base de datos')\n",
        "\n",
        "# Personalizar el diseño del gráfico\n",
        "fig.update_layout(xaxis_title='Columnas', yaxis_title='Recuento de valores faltantes', title_x=0.5)\n",
        "\n",
        "# Mostrar el gráfico\n",
        "fig.show()"
      ]
    },
    {
      "cell_type": "code",
      "execution_count": 26,
      "metadata": {
        "colab": {
          "base_uri": "https://localhost:8080/",
          "height": 206
        },
        "id": "JOHnP9pqZ78u",
        "outputId": "395a4a7b-fc12-470c-c53c-fe58df9285b8"
      },
      "outputs": [
        {
          "data": {
            "text/html": [
              "<div>\n",
              "<style scoped>\n",
              "    .dataframe tbody tr th:only-of-type {\n",
              "        vertical-align: middle;\n",
              "    }\n",
              "\n",
              "    .dataframe tbody tr th {\n",
              "        vertical-align: top;\n",
              "    }\n",
              "\n",
              "    .dataframe thead th {\n",
              "        text-align: right;\n",
              "    }\n",
              "</style>\n",
              "<table border=\"1\" class=\"dataframe\">\n",
              "  <thead>\n",
              "    <tr style=\"text-align: right;\">\n",
              "      <th></th>\n",
              "      <th>Wiki_ID</th>\n",
              "      <th>Freebase_ID</th>\n",
              "      <th>Title</th>\n",
              "      <th>Author</th>\n",
              "      <th>Pub_date</th>\n",
              "      <th>Genres</th>\n",
              "      <th>Summary</th>\n",
              "    </tr>\n",
              "  </thead>\n",
              "  <tbody>\n",
              "    <tr>\n",
              "      <th>0</th>\n",
              "      <td>620</td>\n",
              "      <td>/m/0hhy</td>\n",
              "      <td>Animal Farm</td>\n",
              "      <td>George Orwell</td>\n",
              "      <td>1945-08-17</td>\n",
              "      <td>Roman à clef</td>\n",
              "      <td>Old Major, the old boar on the Manor Farm, ca...</td>\n",
              "    </tr>\n",
              "    <tr>\n",
              "      <th>1</th>\n",
              "      <td>843</td>\n",
              "      <td>/m/0k36</td>\n",
              "      <td>A Clockwork Orange</td>\n",
              "      <td>Anthony Burgess</td>\n",
              "      <td>1962</td>\n",
              "      <td>Science Fiction</td>\n",
              "      <td>Alex, a teenager living in near-future Englan...</td>\n",
              "    </tr>\n",
              "    <tr>\n",
              "      <th>2</th>\n",
              "      <td>986</td>\n",
              "      <td>/m/0ldx</td>\n",
              "      <td>The Plague</td>\n",
              "      <td>Albert Camus</td>\n",
              "      <td>1947</td>\n",
              "      <td>Existentialism</td>\n",
              "      <td>The text of The Plague is divided into five p...</td>\n",
              "    </tr>\n",
              "    <tr>\n",
              "      <th>3</th>\n",
              "      <td>1756</td>\n",
              "      <td>/m/0sww</td>\n",
              "      <td>An Enquiry Concerning Human Understanding</td>\n",
              "      <td>David Hume</td>\n",
              "      <td>NaN</td>\n",
              "      <td></td>\n",
              "      <td>The argument of the Enquiry proceeds by a ser...</td>\n",
              "    </tr>\n",
              "    <tr>\n",
              "      <th>4</th>\n",
              "      <td>2080</td>\n",
              "      <td>/m/0wkt</td>\n",
              "      <td>A Fire Upon the Deep</td>\n",
              "      <td>Vernor Vinge</td>\n",
              "      <td>NaN</td>\n",
              "      <td>Hard science fiction</td>\n",
              "      <td>The novel posits that space around the Milky ...</td>\n",
              "    </tr>\n",
              "  </tbody>\n",
              "</table>\n",
              "</div>"
            ],
            "text/plain": [
              "   Wiki_ID Freebase_ID                                      Title  \\\n",
              "0      620     /m/0hhy                                Animal Farm   \n",
              "1      843     /m/0k36                         A Clockwork Orange   \n",
              "2      986     /m/0ldx                                 The Plague   \n",
              "3     1756     /m/0sww  An Enquiry Concerning Human Understanding   \n",
              "4     2080     /m/0wkt                       A Fire Upon the Deep   \n",
              "\n",
              "            Author    Pub_date                Genres  \\\n",
              "0    George Orwell  1945-08-17          Roman à clef   \n",
              "1  Anthony Burgess        1962       Science Fiction   \n",
              "2     Albert Camus        1947        Existentialism   \n",
              "3       David Hume         NaN                         \n",
              "4     Vernor Vinge         NaN  Hard science fiction   \n",
              "\n",
              "                                             Summary  \n",
              "0   Old Major, the old boar on the Manor Farm, ca...  \n",
              "1   Alex, a teenager living in near-future Englan...  \n",
              "2   The text of The Plague is divided into five p...  \n",
              "3   The argument of the Enquiry proceeds by a ser...  \n",
              "4   The novel posits that space around the Milky ...  "
            ]
          },
          "execution_count": 26,
          "metadata": {},
          "output_type": "execute_result"
        }
      ],
      "source": [
        "# Importar el módulo json\n",
        "import json\n",
        "\n",
        "# Definir función para extraer el primer género de una lista JSON\n",
        "def parse_genres(genre_str):\n",
        "    try:\n",
        "        # Convertir la cadena JSON a una lista de valores\n",
        "        genre_list = list(json.loads(genre_str).values())\n",
        "\n",
        "        # Devolver el primer valor de la lista (el texto que quieres)\n",
        "        return genre_list[0] if genre_list else ''\n",
        "    except (TypeError, json.JSONDecodeError):\n",
        "        return ''\n",
        "\n",
        "# Aplicar la función parse_genres a la columna 'Genres'\n",
        "df_book_summaries['Genres'] = df_book_summaries['Genres'].map(parse_genres)\n",
        "\n",
        "# Mostrar las primeras 5 filas del DataFrame\n",
        "df_book_summaries.head(5)"
      ]
    },
    {
      "cell_type": "code",
      "execution_count": 27,
      "metadata": {
        "colab": {
          "base_uri": "https://localhost:8080/",
          "height": 652
        },
        "id": "A4zTZUBd4kbh",
        "outputId": "68106d2e-dc8c-4882-aa8e-12cd7e238df5"
      },
      "outputs": [
        {
          "data": {
            "application/vnd.plotly.v1+json": {
              "config": {
                "plotlyServerURL": "https://plot.ly"
              },
              "data": [
                {
                  "alignmentgroup": "True",
                  "hovertemplate": "Recuento=%{x}<br>Autor=%{y}<extra></extra>",
                  "legendgroup": "",
                  "marker": {
                    "color": "#636efa",
                    "pattern": {
                      "shape": ""
                    }
                  },
                  "name": "",
                  "offsetgroup": "",
                  "orientation": "h",
                  "showlegend": false,
                  "textposition": "auto",
                  "type": "bar",
                  "x": [
                    49,
                    49,
                    50,
                    55,
                    55,
                    59,
                    60,
                    62,
                    68,
                    74
                  ],
                  "xaxis": "x",
                  "y": [
                    "Harry Turtledove",
                    "Orson Scott Card",
                    "P. G. Wodehouse",
                    "Ruth Rendell",
                    "John Dickson Carr",
                    "Edgar Rice Burroughs",
                    "Stephen King",
                    "K. A. Applegate",
                    "Franklin W. Dixon",
                    "Agatha Christie"
                  ],
                  "yaxis": "y"
                }
              ],
              "layout": {
                "barmode": "relative",
                "height": 600,
                "legend": {
                  "tracegroupgap": 0
                },
                "template": {
                  "data": {
                    "bar": [
                      {
                        "error_x": {
                          "color": "#2a3f5f"
                        },
                        "error_y": {
                          "color": "#2a3f5f"
                        },
                        "marker": {
                          "line": {
                            "color": "#E5ECF6",
                            "width": 0.5
                          },
                          "pattern": {
                            "fillmode": "overlay",
                            "size": 10,
                            "solidity": 0.2
                          }
                        },
                        "type": "bar"
                      }
                    ],
                    "barpolar": [
                      {
                        "marker": {
                          "line": {
                            "color": "#E5ECF6",
                            "width": 0.5
                          },
                          "pattern": {
                            "fillmode": "overlay",
                            "size": 10,
                            "solidity": 0.2
                          }
                        },
                        "type": "barpolar"
                      }
                    ],
                    "carpet": [
                      {
                        "aaxis": {
                          "endlinecolor": "#2a3f5f",
                          "gridcolor": "white",
                          "linecolor": "white",
                          "minorgridcolor": "white",
                          "startlinecolor": "#2a3f5f"
                        },
                        "baxis": {
                          "endlinecolor": "#2a3f5f",
                          "gridcolor": "white",
                          "linecolor": "white",
                          "minorgridcolor": "white",
                          "startlinecolor": "#2a3f5f"
                        },
                        "type": "carpet"
                      }
                    ],
                    "choropleth": [
                      {
                        "colorbar": {
                          "outlinewidth": 0,
                          "ticks": ""
                        },
                        "type": "choropleth"
                      }
                    ],
                    "contour": [
                      {
                        "colorbar": {
                          "outlinewidth": 0,
                          "ticks": ""
                        },
                        "colorscale": [
                          [
                            0,
                            "#0d0887"
                          ],
                          [
                            0.1111111111111111,
                            "#46039f"
                          ],
                          [
                            0.2222222222222222,
                            "#7201a8"
                          ],
                          [
                            0.3333333333333333,
                            "#9c179e"
                          ],
                          [
                            0.4444444444444444,
                            "#bd3786"
                          ],
                          [
                            0.5555555555555556,
                            "#d8576b"
                          ],
                          [
                            0.6666666666666666,
                            "#ed7953"
                          ],
                          [
                            0.7777777777777778,
                            "#fb9f3a"
                          ],
                          [
                            0.8888888888888888,
                            "#fdca26"
                          ],
                          [
                            1,
                            "#f0f921"
                          ]
                        ],
                        "type": "contour"
                      }
                    ],
                    "contourcarpet": [
                      {
                        "colorbar": {
                          "outlinewidth": 0,
                          "ticks": ""
                        },
                        "type": "contourcarpet"
                      }
                    ],
                    "heatmap": [
                      {
                        "colorbar": {
                          "outlinewidth": 0,
                          "ticks": ""
                        },
                        "colorscale": [
                          [
                            0,
                            "#0d0887"
                          ],
                          [
                            0.1111111111111111,
                            "#46039f"
                          ],
                          [
                            0.2222222222222222,
                            "#7201a8"
                          ],
                          [
                            0.3333333333333333,
                            "#9c179e"
                          ],
                          [
                            0.4444444444444444,
                            "#bd3786"
                          ],
                          [
                            0.5555555555555556,
                            "#d8576b"
                          ],
                          [
                            0.6666666666666666,
                            "#ed7953"
                          ],
                          [
                            0.7777777777777778,
                            "#fb9f3a"
                          ],
                          [
                            0.8888888888888888,
                            "#fdca26"
                          ],
                          [
                            1,
                            "#f0f921"
                          ]
                        ],
                        "type": "heatmap"
                      }
                    ],
                    "heatmapgl": [
                      {
                        "colorbar": {
                          "outlinewidth": 0,
                          "ticks": ""
                        },
                        "colorscale": [
                          [
                            0,
                            "#0d0887"
                          ],
                          [
                            0.1111111111111111,
                            "#46039f"
                          ],
                          [
                            0.2222222222222222,
                            "#7201a8"
                          ],
                          [
                            0.3333333333333333,
                            "#9c179e"
                          ],
                          [
                            0.4444444444444444,
                            "#bd3786"
                          ],
                          [
                            0.5555555555555556,
                            "#d8576b"
                          ],
                          [
                            0.6666666666666666,
                            "#ed7953"
                          ],
                          [
                            0.7777777777777778,
                            "#fb9f3a"
                          ],
                          [
                            0.8888888888888888,
                            "#fdca26"
                          ],
                          [
                            1,
                            "#f0f921"
                          ]
                        ],
                        "type": "heatmapgl"
                      }
                    ],
                    "histogram": [
                      {
                        "marker": {
                          "pattern": {
                            "fillmode": "overlay",
                            "size": 10,
                            "solidity": 0.2
                          }
                        },
                        "type": "histogram"
                      }
                    ],
                    "histogram2d": [
                      {
                        "colorbar": {
                          "outlinewidth": 0,
                          "ticks": ""
                        },
                        "colorscale": [
                          [
                            0,
                            "#0d0887"
                          ],
                          [
                            0.1111111111111111,
                            "#46039f"
                          ],
                          [
                            0.2222222222222222,
                            "#7201a8"
                          ],
                          [
                            0.3333333333333333,
                            "#9c179e"
                          ],
                          [
                            0.4444444444444444,
                            "#bd3786"
                          ],
                          [
                            0.5555555555555556,
                            "#d8576b"
                          ],
                          [
                            0.6666666666666666,
                            "#ed7953"
                          ],
                          [
                            0.7777777777777778,
                            "#fb9f3a"
                          ],
                          [
                            0.8888888888888888,
                            "#fdca26"
                          ],
                          [
                            1,
                            "#f0f921"
                          ]
                        ],
                        "type": "histogram2d"
                      }
                    ],
                    "histogram2dcontour": [
                      {
                        "colorbar": {
                          "outlinewidth": 0,
                          "ticks": ""
                        },
                        "colorscale": [
                          [
                            0,
                            "#0d0887"
                          ],
                          [
                            0.1111111111111111,
                            "#46039f"
                          ],
                          [
                            0.2222222222222222,
                            "#7201a8"
                          ],
                          [
                            0.3333333333333333,
                            "#9c179e"
                          ],
                          [
                            0.4444444444444444,
                            "#bd3786"
                          ],
                          [
                            0.5555555555555556,
                            "#d8576b"
                          ],
                          [
                            0.6666666666666666,
                            "#ed7953"
                          ],
                          [
                            0.7777777777777778,
                            "#fb9f3a"
                          ],
                          [
                            0.8888888888888888,
                            "#fdca26"
                          ],
                          [
                            1,
                            "#f0f921"
                          ]
                        ],
                        "type": "histogram2dcontour"
                      }
                    ],
                    "mesh3d": [
                      {
                        "colorbar": {
                          "outlinewidth": 0,
                          "ticks": ""
                        },
                        "type": "mesh3d"
                      }
                    ],
                    "parcoords": [
                      {
                        "line": {
                          "colorbar": {
                            "outlinewidth": 0,
                            "ticks": ""
                          }
                        },
                        "type": "parcoords"
                      }
                    ],
                    "pie": [
                      {
                        "automargin": true,
                        "type": "pie"
                      }
                    ],
                    "scatter": [
                      {
                        "fillpattern": {
                          "fillmode": "overlay",
                          "size": 10,
                          "solidity": 0.2
                        },
                        "type": "scatter"
                      }
                    ],
                    "scatter3d": [
                      {
                        "line": {
                          "colorbar": {
                            "outlinewidth": 0,
                            "ticks": ""
                          }
                        },
                        "marker": {
                          "colorbar": {
                            "outlinewidth": 0,
                            "ticks": ""
                          }
                        },
                        "type": "scatter3d"
                      }
                    ],
                    "scattercarpet": [
                      {
                        "marker": {
                          "colorbar": {
                            "outlinewidth": 0,
                            "ticks": ""
                          }
                        },
                        "type": "scattercarpet"
                      }
                    ],
                    "scattergeo": [
                      {
                        "marker": {
                          "colorbar": {
                            "outlinewidth": 0,
                            "ticks": ""
                          }
                        },
                        "type": "scattergeo"
                      }
                    ],
                    "scattergl": [
                      {
                        "marker": {
                          "colorbar": {
                            "outlinewidth": 0,
                            "ticks": ""
                          }
                        },
                        "type": "scattergl"
                      }
                    ],
                    "scattermapbox": [
                      {
                        "marker": {
                          "colorbar": {
                            "outlinewidth": 0,
                            "ticks": ""
                          }
                        },
                        "type": "scattermapbox"
                      }
                    ],
                    "scatterpolar": [
                      {
                        "marker": {
                          "colorbar": {
                            "outlinewidth": 0,
                            "ticks": ""
                          }
                        },
                        "type": "scatterpolar"
                      }
                    ],
                    "scatterpolargl": [
                      {
                        "marker": {
                          "colorbar": {
                            "outlinewidth": 0,
                            "ticks": ""
                          }
                        },
                        "type": "scatterpolargl"
                      }
                    ],
                    "scatterternary": [
                      {
                        "marker": {
                          "colorbar": {
                            "outlinewidth": 0,
                            "ticks": ""
                          }
                        },
                        "type": "scatterternary"
                      }
                    ],
                    "surface": [
                      {
                        "colorbar": {
                          "outlinewidth": 0,
                          "ticks": ""
                        },
                        "colorscale": [
                          [
                            0,
                            "#0d0887"
                          ],
                          [
                            0.1111111111111111,
                            "#46039f"
                          ],
                          [
                            0.2222222222222222,
                            "#7201a8"
                          ],
                          [
                            0.3333333333333333,
                            "#9c179e"
                          ],
                          [
                            0.4444444444444444,
                            "#bd3786"
                          ],
                          [
                            0.5555555555555556,
                            "#d8576b"
                          ],
                          [
                            0.6666666666666666,
                            "#ed7953"
                          ],
                          [
                            0.7777777777777778,
                            "#fb9f3a"
                          ],
                          [
                            0.8888888888888888,
                            "#fdca26"
                          ],
                          [
                            1,
                            "#f0f921"
                          ]
                        ],
                        "type": "surface"
                      }
                    ],
                    "table": [
                      {
                        "cells": {
                          "fill": {
                            "color": "#EBF0F8"
                          },
                          "line": {
                            "color": "white"
                          }
                        },
                        "header": {
                          "fill": {
                            "color": "#C8D4E3"
                          },
                          "line": {
                            "color": "white"
                          }
                        },
                        "type": "table"
                      }
                    ]
                  },
                  "layout": {
                    "annotationdefaults": {
                      "arrowcolor": "#2a3f5f",
                      "arrowhead": 0,
                      "arrowwidth": 1
                    },
                    "autotypenumbers": "strict",
                    "coloraxis": {
                      "colorbar": {
                        "outlinewidth": 0,
                        "ticks": ""
                      }
                    },
                    "colorscale": {
                      "diverging": [
                        [
                          0,
                          "#8e0152"
                        ],
                        [
                          0.1,
                          "#c51b7d"
                        ],
                        [
                          0.2,
                          "#de77ae"
                        ],
                        [
                          0.3,
                          "#f1b6da"
                        ],
                        [
                          0.4,
                          "#fde0ef"
                        ],
                        [
                          0.5,
                          "#f7f7f7"
                        ],
                        [
                          0.6,
                          "#e6f5d0"
                        ],
                        [
                          0.7,
                          "#b8e186"
                        ],
                        [
                          0.8,
                          "#7fbc41"
                        ],
                        [
                          0.9,
                          "#4d9221"
                        ],
                        [
                          1,
                          "#276419"
                        ]
                      ],
                      "sequential": [
                        [
                          0,
                          "#0d0887"
                        ],
                        [
                          0.1111111111111111,
                          "#46039f"
                        ],
                        [
                          0.2222222222222222,
                          "#7201a8"
                        ],
                        [
                          0.3333333333333333,
                          "#9c179e"
                        ],
                        [
                          0.4444444444444444,
                          "#bd3786"
                        ],
                        [
                          0.5555555555555556,
                          "#d8576b"
                        ],
                        [
                          0.6666666666666666,
                          "#ed7953"
                        ],
                        [
                          0.7777777777777778,
                          "#fb9f3a"
                        ],
                        [
                          0.8888888888888888,
                          "#fdca26"
                        ],
                        [
                          1,
                          "#f0f921"
                        ]
                      ],
                      "sequentialminus": [
                        [
                          0,
                          "#0d0887"
                        ],
                        [
                          0.1111111111111111,
                          "#46039f"
                        ],
                        [
                          0.2222222222222222,
                          "#7201a8"
                        ],
                        [
                          0.3333333333333333,
                          "#9c179e"
                        ],
                        [
                          0.4444444444444444,
                          "#bd3786"
                        ],
                        [
                          0.5555555555555556,
                          "#d8576b"
                        ],
                        [
                          0.6666666666666666,
                          "#ed7953"
                        ],
                        [
                          0.7777777777777778,
                          "#fb9f3a"
                        ],
                        [
                          0.8888888888888888,
                          "#fdca26"
                        ],
                        [
                          1,
                          "#f0f921"
                        ]
                      ]
                    },
                    "colorway": [
                      "#636efa",
                      "#EF553B",
                      "#00cc96",
                      "#ab63fa",
                      "#FFA15A",
                      "#19d3f3",
                      "#FF6692",
                      "#B6E880",
                      "#FF97FF",
                      "#FECB52"
                    ],
                    "font": {
                      "color": "#2a3f5f"
                    },
                    "geo": {
                      "bgcolor": "white",
                      "lakecolor": "white",
                      "landcolor": "#E5ECF6",
                      "showlakes": true,
                      "showland": true,
                      "subunitcolor": "white"
                    },
                    "hoverlabel": {
                      "align": "left"
                    },
                    "hovermode": "closest",
                    "mapbox": {
                      "style": "light"
                    },
                    "paper_bgcolor": "white",
                    "plot_bgcolor": "#E5ECF6",
                    "polar": {
                      "angularaxis": {
                        "gridcolor": "white",
                        "linecolor": "white",
                        "ticks": ""
                      },
                      "bgcolor": "#E5ECF6",
                      "radialaxis": {
                        "gridcolor": "white",
                        "linecolor": "white",
                        "ticks": ""
                      }
                    },
                    "scene": {
                      "xaxis": {
                        "backgroundcolor": "#E5ECF6",
                        "gridcolor": "white",
                        "gridwidth": 2,
                        "linecolor": "white",
                        "showbackground": true,
                        "ticks": "",
                        "zerolinecolor": "white"
                      },
                      "yaxis": {
                        "backgroundcolor": "#E5ECF6",
                        "gridcolor": "white",
                        "gridwidth": 2,
                        "linecolor": "white",
                        "showbackground": true,
                        "ticks": "",
                        "zerolinecolor": "white"
                      },
                      "zaxis": {
                        "backgroundcolor": "#E5ECF6",
                        "gridcolor": "white",
                        "gridwidth": 2,
                        "linecolor": "white",
                        "showbackground": true,
                        "ticks": "",
                        "zerolinecolor": "white"
                      }
                    },
                    "shapedefaults": {
                      "line": {
                        "color": "#2a3f5f"
                      }
                    },
                    "ternary": {
                      "aaxis": {
                        "gridcolor": "white",
                        "linecolor": "white",
                        "ticks": ""
                      },
                      "baxis": {
                        "gridcolor": "white",
                        "linecolor": "white",
                        "ticks": ""
                      },
                      "bgcolor": "#E5ECF6",
                      "caxis": {
                        "gridcolor": "white",
                        "linecolor": "white",
                        "ticks": ""
                      }
                    },
                    "title": {
                      "x": 0.05
                    },
                    "xaxis": {
                      "automargin": true,
                      "gridcolor": "white",
                      "linecolor": "white",
                      "ticks": "",
                      "title": {
                        "standoff": 15
                      },
                      "zerolinecolor": "white",
                      "zerolinewidth": 2
                    },
                    "yaxis": {
                      "automargin": true,
                      "gridcolor": "white",
                      "linecolor": "white",
                      "ticks": "",
                      "title": {
                        "standoff": 15
                      },
                      "zerolinecolor": "white",
                      "zerolinewidth": 2
                    }
                  }
                },
                "title": {
                  "font": {
                    "size": 24
                  },
                  "text": "Autores más comunes",
                  "x": 0.5
                },
                "width": 800,
                "xaxis": {
                  "anchor": "y",
                  "domain": [
                    0,
                    1
                  ],
                  "title": {
                    "text": "Recuento"
                  }
                },
                "yaxis": {
                  "anchor": "x",
                  "domain": [
                    0,
                    1
                  ],
                  "title": {
                    "text": "Autor"
                  }
                }
              }
            }
          },
          "metadata": {},
          "output_type": "display_data"
        },
        {
          "name": "stdout",
          "output_type": "stream",
          "text": [
            "\n",
            "Porcentaje de libros con un autor asociado: 85.62%\n"
          ]
        }
      ],
      "source": [
        "# Encontrar los autores más comunes\n",
        "author_counts = df_book_summaries['Author'].value_counts().reset_index()\n",
        "author_counts.columns = ['Autor', 'Recuento']\n",
        "\n",
        "# Seleccionar los 10 principales autores con la cuenta más alta\n",
        "top_authors = author_counts.nlargest(columns=[\"Recuento\"], n=10)\n",
        "\n",
        "# Restablecer el índice del DataFrame top_authors\n",
        "top_authors.reset_index(drop=True, inplace=True)\n",
        "\n",
        "# Ordenar los autores por Recuento\n",
        "top_authors = top_authors.sort_values(by='Recuento', ascending=True)\n",
        "\n",
        "# Crear un gráfico de barras de los recuentos de autor utilizando Plotly\n",
        "fig = px.bar(top_authors, x='Recuento', y='Autor', \n",
        "             height=600, width=800, title='Autores más comunes')\n",
        "\n",
        "# Personalizar el diseño del gráfico\n",
        "fig.update_layout(xaxis_title='Recuento', yaxis_title='Autor', \n",
        "                  title_x=0.5, title_font_size=24)\n",
        "\n",
        "# Mostrar el gráfico\n",
        "fig.show()\n",
        "\n",
        "# Calcular el porcentaje de libros con un autor asociado\n",
        "total_books = len(df_book_summaries)\n",
        "books_with_author = df_book_summaries['Author'].notna().sum()\n",
        "percentage_books_with_author = (books_with_author / total_books) * 100\n",
        "\n",
        "# # Imprimir los resultados\n",
        "# print(\"Autores más comunes:\")\n",
        "# print(author_counts.head(10))\n",
        "print(f\"\\nPorcentaje de libros con un autor asociado: {percentage_books_with_author:.2f}%\")"
      ]
    },
    {
      "cell_type": "code",
      "execution_count": 28,
      "metadata": {
        "colab": {
          "base_uri": "https://localhost:8080/"
        },
        "id": "Sb5SP8qE4kbh",
        "outputId": "acd09757-e5be-4e2a-917c-4d19cffa2a83"
      },
      "outputs": [
        {
          "name": "stdout",
          "output_type": "stream",
          "text": [
            "Periodo de tiempo cubierto: 1678-02-01 00:00:00 a 2013-01-01 00:00:00\n",
            "Libro más reciente: Dr. Sleep (publicado el: 2013-01-01 00:00:00)\n",
            "Libro más antiguo: The Pilgrim's Progress (publicado el: 1678-02-01 00:00:00)\n"
          ]
        }
      ],
      "source": [
        "# Convertir la columna 'Pub_date' al formato datetime\n",
        "df_book_summaries['Pub_date'] = pd.to_datetime(df_book_summaries['Pub_date'], errors='coerce')\n",
        "\n",
        "# Encontrar el periodo de tiempo cubierto por los libros analizados\n",
        "earliest_date = df_book_summaries['Pub_date'].min()\n",
        "latest_date = df_book_summaries['Pub_date'].max()\n",
        "\n",
        "# Encontrar los libros más recientes y antiguos\n",
        "most_recent_book = df_book_summaries.loc[df_book_summaries['Pub_date'].idxmax()]\n",
        "oldest_book = df_book_summaries.loc[df_book_summaries['Pub_date'].idxmin()]\n",
        "\n",
        "# Imprimir los resultados\n",
        "print(f\"Periodo de tiempo cubierto: {earliest_date} a {latest_date}\")\n",
        "print(f\"Libro más reciente: {most_recent_book['Title']} (publicado el: {most_recent_book['Pub_date']})\")\n",
        "print(f\"Libro más antiguo: {oldest_book['Title']} (publicado el: {oldest_book['Pub_date']})\")"
      ]
    },
    {
      "cell_type": "code",
      "execution_count": 29,
      "metadata": {
        "colab": {
          "base_uri": "https://localhost:8080/"
        },
        "id": "6HznyMii4kbi",
        "outputId": "46ac3ea3-347d-4fe1-febe-2a0d80b46cbc"
      },
      "outputs": [
        {
          "name": "stdout",
          "output_type": "stream",
          "text": [
            "Título más largo: Passionate Minds: The Great Love Affair of the Enlightenment, Featuring the Scientist Emilie du Chatelet, the Poet Voltaire, Sword Fights, Book Burnings, Assorted Kings, Seditious Verse, and the Birth of the Modern World (longitud: 220)\n",
            "Título más corto: Q (longitud: 1)\n"
          ]
        }
      ],
      "source": [
        "# Encontrar el índice de los títulos más largos y más cortos\n",
        "longest_title_index = df_book_summaries['Title'].apply(len).idxmax()\n",
        "shortest_title_index = df_book_summaries['Title'].apply(len).idxmin()\n",
        "\n",
        "# Obtener los títulos más largos y más cortos\n",
        "longest_title = df_book_summaries.loc[longest_title_index, 'Title']\n",
        "shortest_title = df_book_summaries.loc[shortest_title_index, 'Title']\n",
        "\n",
        "# Imprimir los resultados\n",
        "print(f\"Título más largo: {longest_title} (longitud: {len(longest_title)})\")\n",
        "print(f\"Título más corto: {shortest_title} (longitud: {len(shortest_title)})\")"
      ]
    },
    {
      "cell_type": "code",
      "execution_count": 30,
      "metadata": {
        "colab": {
          "base_uri": "https://localhost:8080/"
        },
        "id": "f4TUzvPTBpIJ",
        "outputId": "2916a3a9-d033-4f1c-eac8-c2484bb32e04"
      },
      "outputs": [
        {
          "data": {
            "text/plain": [
              "0                Roman à clef\n",
              "1             Science Fiction\n",
              "2              Existentialism\n",
              "3                            \n",
              "4        Hard science fiction\n",
              "                 ...         \n",
              "16554                        \n",
              "16555                Thriller\n",
              "16556           Autobiography\n",
              "16557                        \n",
              "16558        Epistolary novel\n",
              "Name: Genres, Length: 16559, dtype: object"
            ]
          },
          "execution_count": 30,
          "metadata": {},
          "output_type": "execute_result"
        }
      ],
      "source": [
        "df_book_summaries['Genres'].astype(str)"
      ]
    },
    {
      "cell_type": "code",
      "execution_count": 31,
      "metadata": {
        "colab": {
          "base_uri": "https://localhost:8080/",
          "height": 424
        },
        "id": "OcEWQNqbCSgf",
        "outputId": "ee364904-2003-4613-d6ae-7d132bda15e2"
      },
      "outputs": [
        {
          "data": {
            "text/html": [
              "<div>\n",
              "<style scoped>\n",
              "    .dataframe tbody tr th:only-of-type {\n",
              "        vertical-align: middle;\n",
              "    }\n",
              "\n",
              "    .dataframe tbody tr th {\n",
              "        vertical-align: top;\n",
              "    }\n",
              "\n",
              "    .dataframe thead th {\n",
              "        text-align: right;\n",
              "    }\n",
              "</style>\n",
              "<table border=\"1\" class=\"dataframe\">\n",
              "  <thead>\n",
              "    <tr style=\"text-align: right;\">\n",
              "      <th></th>\n",
              "      <th>Wiki_ID</th>\n",
              "      <th>Freebase_ID</th>\n",
              "      <th>Title</th>\n",
              "      <th>Author</th>\n",
              "      <th>Pub_date</th>\n",
              "      <th>Genres</th>\n",
              "      <th>Summary</th>\n",
              "    </tr>\n",
              "  </thead>\n",
              "  <tbody>\n",
              "    <tr>\n",
              "      <th>0</th>\n",
              "      <td>620</td>\n",
              "      <td>/m/0hhy</td>\n",
              "      <td>Animal Farm</td>\n",
              "      <td>George Orwell</td>\n",
              "      <td>1945-08-17</td>\n",
              "      <td>Roman à clef</td>\n",
              "      <td>Old Major, the old boar on the Manor Farm, ca...</td>\n",
              "    </tr>\n",
              "    <tr>\n",
              "      <th>1</th>\n",
              "      <td>843</td>\n",
              "      <td>/m/0k36</td>\n",
              "      <td>A Clockwork Orange</td>\n",
              "      <td>Anthony Burgess</td>\n",
              "      <td>1962-01-01</td>\n",
              "      <td>Science Fiction</td>\n",
              "      <td>Alex, a teenager living in near-future Englan...</td>\n",
              "    </tr>\n",
              "    <tr>\n",
              "      <th>2</th>\n",
              "      <td>986</td>\n",
              "      <td>/m/0ldx</td>\n",
              "      <td>The Plague</td>\n",
              "      <td>Albert Camus</td>\n",
              "      <td>1947-01-01</td>\n",
              "      <td>Existentialism</td>\n",
              "      <td>The text of The Plague is divided into five p...</td>\n",
              "    </tr>\n",
              "    <tr>\n",
              "      <th>3</th>\n",
              "      <td>1756</td>\n",
              "      <td>/m/0sww</td>\n",
              "      <td>An Enquiry Concerning Human Understanding</td>\n",
              "      <td>David Hume</td>\n",
              "      <td>NaT</td>\n",
              "      <td></td>\n",
              "      <td>The argument of the Enquiry proceeds by a ser...</td>\n",
              "    </tr>\n",
              "    <tr>\n",
              "      <th>4</th>\n",
              "      <td>2080</td>\n",
              "      <td>/m/0wkt</td>\n",
              "      <td>A Fire Upon the Deep</td>\n",
              "      <td>Vernor Vinge</td>\n",
              "      <td>NaT</td>\n",
              "      <td>Hard science fiction</td>\n",
              "      <td>The novel posits that space around the Milky ...</td>\n",
              "    </tr>\n",
              "    <tr>\n",
              "      <th>...</th>\n",
              "      <td>...</td>\n",
              "      <td>...</td>\n",
              "      <td>...</td>\n",
              "      <td>...</td>\n",
              "      <td>...</td>\n",
              "      <td>...</td>\n",
              "      <td>...</td>\n",
              "    </tr>\n",
              "    <tr>\n",
              "      <th>16554</th>\n",
              "      <td>36934824</td>\n",
              "      <td>/m/0m0p0hr</td>\n",
              "      <td>Under Wildwood</td>\n",
              "      <td>Colin Meloy</td>\n",
              "      <td>2012-09-25</td>\n",
              "      <td></td>\n",
              "      <td>Prue McKeel, having rescued her brother from ...</td>\n",
              "    </tr>\n",
              "    <tr>\n",
              "      <th>16555</th>\n",
              "      <td>37054020</td>\n",
              "      <td>/m/04f1nbs</td>\n",
              "      <td>Transfer of Power</td>\n",
              "      <td>Vince Flynn</td>\n",
              "      <td>2000-06-01</td>\n",
              "      <td>Thriller</td>\n",
              "      <td>The reader first meets Rapp while he is doing...</td>\n",
              "    </tr>\n",
              "    <tr>\n",
              "      <th>16556</th>\n",
              "      <td>37122323</td>\n",
              "      <td>/m/0n5236t</td>\n",
              "      <td>Decoded</td>\n",
              "      <td>Jay-Z</td>\n",
              "      <td>2010-11-16</td>\n",
              "      <td>Autobiography</td>\n",
              "      <td>The book follows very rough chronological ord...</td>\n",
              "    </tr>\n",
              "    <tr>\n",
              "      <th>16557</th>\n",
              "      <td>37132319</td>\n",
              "      <td>/m/0n4bqb1</td>\n",
              "      <td>America Again: Re-becoming The Greatness We Ne...</td>\n",
              "      <td>Stephen Colbert</td>\n",
              "      <td>2012-10-02</td>\n",
              "      <td></td>\n",
              "      <td>Colbert addresses topics including Wall Stree...</td>\n",
              "    </tr>\n",
              "    <tr>\n",
              "      <th>16558</th>\n",
              "      <td>37159503</td>\n",
              "      <td>/m/073nkd</td>\n",
              "      <td>Poor Folk</td>\n",
              "      <td>Fyodor Dostoyevsky</td>\n",
              "      <td>1846-01-01</td>\n",
              "      <td>Epistolary novel</td>\n",
              "      <td>Makar Devushkin and Varvara Dobroselova are s...</td>\n",
              "    </tr>\n",
              "  </tbody>\n",
              "</table>\n",
              "<p>16559 rows × 7 columns</p>\n",
              "</div>"
            ],
            "text/plain": [
              "        Wiki_ID Freebase_ID  \\\n",
              "0           620     /m/0hhy   \n",
              "1           843     /m/0k36   \n",
              "2           986     /m/0ldx   \n",
              "3          1756     /m/0sww   \n",
              "4          2080     /m/0wkt   \n",
              "...         ...         ...   \n",
              "16554  36934824  /m/0m0p0hr   \n",
              "16555  37054020  /m/04f1nbs   \n",
              "16556  37122323  /m/0n5236t   \n",
              "16557  37132319  /m/0n4bqb1   \n",
              "16558  37159503   /m/073nkd   \n",
              "\n",
              "                                                   Title              Author  \\\n",
              "0                                            Animal Farm       George Orwell   \n",
              "1                                     A Clockwork Orange     Anthony Burgess   \n",
              "2                                             The Plague        Albert Camus   \n",
              "3              An Enquiry Concerning Human Understanding          David Hume   \n",
              "4                                   A Fire Upon the Deep        Vernor Vinge   \n",
              "...                                                  ...                 ...   \n",
              "16554                                     Under Wildwood         Colin Meloy   \n",
              "16555                                  Transfer of Power         Vince Flynn   \n",
              "16556                                            Decoded               Jay-Z   \n",
              "16557  America Again: Re-becoming The Greatness We Ne...     Stephen Colbert   \n",
              "16558                                          Poor Folk  Fyodor Dostoyevsky   \n",
              "\n",
              "        Pub_date                Genres  \\\n",
              "0     1945-08-17          Roman à clef   \n",
              "1     1962-01-01       Science Fiction   \n",
              "2     1947-01-01        Existentialism   \n",
              "3            NaT                         \n",
              "4            NaT  Hard science fiction   \n",
              "...          ...                   ...   \n",
              "16554 2012-09-25                         \n",
              "16555 2000-06-01              Thriller   \n",
              "16556 2010-11-16         Autobiography   \n",
              "16557 2012-10-02                         \n",
              "16558 1846-01-01      Epistolary novel   \n",
              "\n",
              "                                                 Summary  \n",
              "0       Old Major, the old boar on the Manor Farm, ca...  \n",
              "1       Alex, a teenager living in near-future Englan...  \n",
              "2       The text of The Plague is divided into five p...  \n",
              "3       The argument of the Enquiry proceeds by a ser...  \n",
              "4       The novel posits that space around the Milky ...  \n",
              "...                                                  ...  \n",
              "16554   Prue McKeel, having rescued her brother from ...  \n",
              "16555   The reader first meets Rapp while he is doing...  \n",
              "16556   The book follows very rough chronological ord...  \n",
              "16557   Colbert addresses topics including Wall Stree...  \n",
              "16558   Makar Devushkin and Varvara Dobroselova are s...  \n",
              "\n",
              "[16559 rows x 7 columns]"
            ]
          },
          "execution_count": 31,
          "metadata": {},
          "output_type": "execute_result"
        }
      ],
      "source": [
        "df_book_summaries"
      ]
    },
    {
      "cell_type": "code",
      "execution_count": 32,
      "metadata": {
        "colab": {
          "base_uri": "https://localhost:8080/",
          "height": 791
        },
        "id": "bwT0FgcA4kbi",
        "outputId": "2aa74541-5990-4761-a3fd-f594eedb3e35"
      },
      "outputs": [
        {
          "data": {
            "application/vnd.plotly.v1+json": {
              "config": {
                "plotlyServerURL": "https://plot.ly"
              },
              "data": [
                {
                  "alignmentgroup": "True",
                  "hovertemplate": "Recuento=%{x}<br>Género=%{y}<extra></extra>",
                  "legendgroup": "",
                  "marker": {
                    "color": "#636efa",
                    "pattern": {
                      "shape": ""
                    }
                  },
                  "name": "",
                  "offsetgroup": "",
                  "orientation": "h",
                  "showlegend": false,
                  "textposition": "auto",
                  "type": "bar",
                  "x": [
                    568,
                    624,
                    672,
                    734,
                    925,
                    943,
                    1152,
                    1438,
                    2551,
                    3718
                  ],
                  "xaxis": "x",
                  "y": [
                    "Thriller",
                    "Fantasy",
                    "Crime Fiction",
                    "Mystery",
                    "Novel",
                    "Fiction",
                    "Children's literature",
                    "Speculative fiction",
                    "Science Fiction",
                    ""
                  ],
                  "yaxis": "y"
                }
              ],
              "layout": {
                "barmode": "relative",
                "height": 600,
                "legend": {
                  "tracegroupgap": 0
                },
                "template": {
                  "data": {
                    "bar": [
                      {
                        "error_x": {
                          "color": "#2a3f5f"
                        },
                        "error_y": {
                          "color": "#2a3f5f"
                        },
                        "marker": {
                          "line": {
                            "color": "#E5ECF6",
                            "width": 0.5
                          },
                          "pattern": {
                            "fillmode": "overlay",
                            "size": 10,
                            "solidity": 0.2
                          }
                        },
                        "type": "bar"
                      }
                    ],
                    "barpolar": [
                      {
                        "marker": {
                          "line": {
                            "color": "#E5ECF6",
                            "width": 0.5
                          },
                          "pattern": {
                            "fillmode": "overlay",
                            "size": 10,
                            "solidity": 0.2
                          }
                        },
                        "type": "barpolar"
                      }
                    ],
                    "carpet": [
                      {
                        "aaxis": {
                          "endlinecolor": "#2a3f5f",
                          "gridcolor": "white",
                          "linecolor": "white",
                          "minorgridcolor": "white",
                          "startlinecolor": "#2a3f5f"
                        },
                        "baxis": {
                          "endlinecolor": "#2a3f5f",
                          "gridcolor": "white",
                          "linecolor": "white",
                          "minorgridcolor": "white",
                          "startlinecolor": "#2a3f5f"
                        },
                        "type": "carpet"
                      }
                    ],
                    "choropleth": [
                      {
                        "colorbar": {
                          "outlinewidth": 0,
                          "ticks": ""
                        },
                        "type": "choropleth"
                      }
                    ],
                    "contour": [
                      {
                        "colorbar": {
                          "outlinewidth": 0,
                          "ticks": ""
                        },
                        "colorscale": [
                          [
                            0,
                            "#0d0887"
                          ],
                          [
                            0.1111111111111111,
                            "#46039f"
                          ],
                          [
                            0.2222222222222222,
                            "#7201a8"
                          ],
                          [
                            0.3333333333333333,
                            "#9c179e"
                          ],
                          [
                            0.4444444444444444,
                            "#bd3786"
                          ],
                          [
                            0.5555555555555556,
                            "#d8576b"
                          ],
                          [
                            0.6666666666666666,
                            "#ed7953"
                          ],
                          [
                            0.7777777777777778,
                            "#fb9f3a"
                          ],
                          [
                            0.8888888888888888,
                            "#fdca26"
                          ],
                          [
                            1,
                            "#f0f921"
                          ]
                        ],
                        "type": "contour"
                      }
                    ],
                    "contourcarpet": [
                      {
                        "colorbar": {
                          "outlinewidth": 0,
                          "ticks": ""
                        },
                        "type": "contourcarpet"
                      }
                    ],
                    "heatmap": [
                      {
                        "colorbar": {
                          "outlinewidth": 0,
                          "ticks": ""
                        },
                        "colorscale": [
                          [
                            0,
                            "#0d0887"
                          ],
                          [
                            0.1111111111111111,
                            "#46039f"
                          ],
                          [
                            0.2222222222222222,
                            "#7201a8"
                          ],
                          [
                            0.3333333333333333,
                            "#9c179e"
                          ],
                          [
                            0.4444444444444444,
                            "#bd3786"
                          ],
                          [
                            0.5555555555555556,
                            "#d8576b"
                          ],
                          [
                            0.6666666666666666,
                            "#ed7953"
                          ],
                          [
                            0.7777777777777778,
                            "#fb9f3a"
                          ],
                          [
                            0.8888888888888888,
                            "#fdca26"
                          ],
                          [
                            1,
                            "#f0f921"
                          ]
                        ],
                        "type": "heatmap"
                      }
                    ],
                    "heatmapgl": [
                      {
                        "colorbar": {
                          "outlinewidth": 0,
                          "ticks": ""
                        },
                        "colorscale": [
                          [
                            0,
                            "#0d0887"
                          ],
                          [
                            0.1111111111111111,
                            "#46039f"
                          ],
                          [
                            0.2222222222222222,
                            "#7201a8"
                          ],
                          [
                            0.3333333333333333,
                            "#9c179e"
                          ],
                          [
                            0.4444444444444444,
                            "#bd3786"
                          ],
                          [
                            0.5555555555555556,
                            "#d8576b"
                          ],
                          [
                            0.6666666666666666,
                            "#ed7953"
                          ],
                          [
                            0.7777777777777778,
                            "#fb9f3a"
                          ],
                          [
                            0.8888888888888888,
                            "#fdca26"
                          ],
                          [
                            1,
                            "#f0f921"
                          ]
                        ],
                        "type": "heatmapgl"
                      }
                    ],
                    "histogram": [
                      {
                        "marker": {
                          "pattern": {
                            "fillmode": "overlay",
                            "size": 10,
                            "solidity": 0.2
                          }
                        },
                        "type": "histogram"
                      }
                    ],
                    "histogram2d": [
                      {
                        "colorbar": {
                          "outlinewidth": 0,
                          "ticks": ""
                        },
                        "colorscale": [
                          [
                            0,
                            "#0d0887"
                          ],
                          [
                            0.1111111111111111,
                            "#46039f"
                          ],
                          [
                            0.2222222222222222,
                            "#7201a8"
                          ],
                          [
                            0.3333333333333333,
                            "#9c179e"
                          ],
                          [
                            0.4444444444444444,
                            "#bd3786"
                          ],
                          [
                            0.5555555555555556,
                            "#d8576b"
                          ],
                          [
                            0.6666666666666666,
                            "#ed7953"
                          ],
                          [
                            0.7777777777777778,
                            "#fb9f3a"
                          ],
                          [
                            0.8888888888888888,
                            "#fdca26"
                          ],
                          [
                            1,
                            "#f0f921"
                          ]
                        ],
                        "type": "histogram2d"
                      }
                    ],
                    "histogram2dcontour": [
                      {
                        "colorbar": {
                          "outlinewidth": 0,
                          "ticks": ""
                        },
                        "colorscale": [
                          [
                            0,
                            "#0d0887"
                          ],
                          [
                            0.1111111111111111,
                            "#46039f"
                          ],
                          [
                            0.2222222222222222,
                            "#7201a8"
                          ],
                          [
                            0.3333333333333333,
                            "#9c179e"
                          ],
                          [
                            0.4444444444444444,
                            "#bd3786"
                          ],
                          [
                            0.5555555555555556,
                            "#d8576b"
                          ],
                          [
                            0.6666666666666666,
                            "#ed7953"
                          ],
                          [
                            0.7777777777777778,
                            "#fb9f3a"
                          ],
                          [
                            0.8888888888888888,
                            "#fdca26"
                          ],
                          [
                            1,
                            "#f0f921"
                          ]
                        ],
                        "type": "histogram2dcontour"
                      }
                    ],
                    "mesh3d": [
                      {
                        "colorbar": {
                          "outlinewidth": 0,
                          "ticks": ""
                        },
                        "type": "mesh3d"
                      }
                    ],
                    "parcoords": [
                      {
                        "line": {
                          "colorbar": {
                            "outlinewidth": 0,
                            "ticks": ""
                          }
                        },
                        "type": "parcoords"
                      }
                    ],
                    "pie": [
                      {
                        "automargin": true,
                        "type": "pie"
                      }
                    ],
                    "scatter": [
                      {
                        "fillpattern": {
                          "fillmode": "overlay",
                          "size": 10,
                          "solidity": 0.2
                        },
                        "type": "scatter"
                      }
                    ],
                    "scatter3d": [
                      {
                        "line": {
                          "colorbar": {
                            "outlinewidth": 0,
                            "ticks": ""
                          }
                        },
                        "marker": {
                          "colorbar": {
                            "outlinewidth": 0,
                            "ticks": ""
                          }
                        },
                        "type": "scatter3d"
                      }
                    ],
                    "scattercarpet": [
                      {
                        "marker": {
                          "colorbar": {
                            "outlinewidth": 0,
                            "ticks": ""
                          }
                        },
                        "type": "scattercarpet"
                      }
                    ],
                    "scattergeo": [
                      {
                        "marker": {
                          "colorbar": {
                            "outlinewidth": 0,
                            "ticks": ""
                          }
                        },
                        "type": "scattergeo"
                      }
                    ],
                    "scattergl": [
                      {
                        "marker": {
                          "colorbar": {
                            "outlinewidth": 0,
                            "ticks": ""
                          }
                        },
                        "type": "scattergl"
                      }
                    ],
                    "scattermapbox": [
                      {
                        "marker": {
                          "colorbar": {
                            "outlinewidth": 0,
                            "ticks": ""
                          }
                        },
                        "type": "scattermapbox"
                      }
                    ],
                    "scatterpolar": [
                      {
                        "marker": {
                          "colorbar": {
                            "outlinewidth": 0,
                            "ticks": ""
                          }
                        },
                        "type": "scatterpolar"
                      }
                    ],
                    "scatterpolargl": [
                      {
                        "marker": {
                          "colorbar": {
                            "outlinewidth": 0,
                            "ticks": ""
                          }
                        },
                        "type": "scatterpolargl"
                      }
                    ],
                    "scatterternary": [
                      {
                        "marker": {
                          "colorbar": {
                            "outlinewidth": 0,
                            "ticks": ""
                          }
                        },
                        "type": "scatterternary"
                      }
                    ],
                    "surface": [
                      {
                        "colorbar": {
                          "outlinewidth": 0,
                          "ticks": ""
                        },
                        "colorscale": [
                          [
                            0,
                            "#0d0887"
                          ],
                          [
                            0.1111111111111111,
                            "#46039f"
                          ],
                          [
                            0.2222222222222222,
                            "#7201a8"
                          ],
                          [
                            0.3333333333333333,
                            "#9c179e"
                          ],
                          [
                            0.4444444444444444,
                            "#bd3786"
                          ],
                          [
                            0.5555555555555556,
                            "#d8576b"
                          ],
                          [
                            0.6666666666666666,
                            "#ed7953"
                          ],
                          [
                            0.7777777777777778,
                            "#fb9f3a"
                          ],
                          [
                            0.8888888888888888,
                            "#fdca26"
                          ],
                          [
                            1,
                            "#f0f921"
                          ]
                        ],
                        "type": "surface"
                      }
                    ],
                    "table": [
                      {
                        "cells": {
                          "fill": {
                            "color": "#EBF0F8"
                          },
                          "line": {
                            "color": "white"
                          }
                        },
                        "header": {
                          "fill": {
                            "color": "#C8D4E3"
                          },
                          "line": {
                            "color": "white"
                          }
                        },
                        "type": "table"
                      }
                    ]
                  },
                  "layout": {
                    "annotationdefaults": {
                      "arrowcolor": "#2a3f5f",
                      "arrowhead": 0,
                      "arrowwidth": 1
                    },
                    "autotypenumbers": "strict",
                    "coloraxis": {
                      "colorbar": {
                        "outlinewidth": 0,
                        "ticks": ""
                      }
                    },
                    "colorscale": {
                      "diverging": [
                        [
                          0,
                          "#8e0152"
                        ],
                        [
                          0.1,
                          "#c51b7d"
                        ],
                        [
                          0.2,
                          "#de77ae"
                        ],
                        [
                          0.3,
                          "#f1b6da"
                        ],
                        [
                          0.4,
                          "#fde0ef"
                        ],
                        [
                          0.5,
                          "#f7f7f7"
                        ],
                        [
                          0.6,
                          "#e6f5d0"
                        ],
                        [
                          0.7,
                          "#b8e186"
                        ],
                        [
                          0.8,
                          "#7fbc41"
                        ],
                        [
                          0.9,
                          "#4d9221"
                        ],
                        [
                          1,
                          "#276419"
                        ]
                      ],
                      "sequential": [
                        [
                          0,
                          "#0d0887"
                        ],
                        [
                          0.1111111111111111,
                          "#46039f"
                        ],
                        [
                          0.2222222222222222,
                          "#7201a8"
                        ],
                        [
                          0.3333333333333333,
                          "#9c179e"
                        ],
                        [
                          0.4444444444444444,
                          "#bd3786"
                        ],
                        [
                          0.5555555555555556,
                          "#d8576b"
                        ],
                        [
                          0.6666666666666666,
                          "#ed7953"
                        ],
                        [
                          0.7777777777777778,
                          "#fb9f3a"
                        ],
                        [
                          0.8888888888888888,
                          "#fdca26"
                        ],
                        [
                          1,
                          "#f0f921"
                        ]
                      ],
                      "sequentialminus": [
                        [
                          0,
                          "#0d0887"
                        ],
                        [
                          0.1111111111111111,
                          "#46039f"
                        ],
                        [
                          0.2222222222222222,
                          "#7201a8"
                        ],
                        [
                          0.3333333333333333,
                          "#9c179e"
                        ],
                        [
                          0.4444444444444444,
                          "#bd3786"
                        ],
                        [
                          0.5555555555555556,
                          "#d8576b"
                        ],
                        [
                          0.6666666666666666,
                          "#ed7953"
                        ],
                        [
                          0.7777777777777778,
                          "#fb9f3a"
                        ],
                        [
                          0.8888888888888888,
                          "#fdca26"
                        ],
                        [
                          1,
                          "#f0f921"
                        ]
                      ]
                    },
                    "colorway": [
                      "#636efa",
                      "#EF553B",
                      "#00cc96",
                      "#ab63fa",
                      "#FFA15A",
                      "#19d3f3",
                      "#FF6692",
                      "#B6E880",
                      "#FF97FF",
                      "#FECB52"
                    ],
                    "font": {
                      "color": "#2a3f5f"
                    },
                    "geo": {
                      "bgcolor": "white",
                      "lakecolor": "white",
                      "landcolor": "#E5ECF6",
                      "showlakes": true,
                      "showland": true,
                      "subunitcolor": "white"
                    },
                    "hoverlabel": {
                      "align": "left"
                    },
                    "hovermode": "closest",
                    "mapbox": {
                      "style": "light"
                    },
                    "paper_bgcolor": "white",
                    "plot_bgcolor": "#E5ECF6",
                    "polar": {
                      "angularaxis": {
                        "gridcolor": "white",
                        "linecolor": "white",
                        "ticks": ""
                      },
                      "bgcolor": "#E5ECF6",
                      "radialaxis": {
                        "gridcolor": "white",
                        "linecolor": "white",
                        "ticks": ""
                      }
                    },
                    "scene": {
                      "xaxis": {
                        "backgroundcolor": "#E5ECF6",
                        "gridcolor": "white",
                        "gridwidth": 2,
                        "linecolor": "white",
                        "showbackground": true,
                        "ticks": "",
                        "zerolinecolor": "white"
                      },
                      "yaxis": {
                        "backgroundcolor": "#E5ECF6",
                        "gridcolor": "white",
                        "gridwidth": 2,
                        "linecolor": "white",
                        "showbackground": true,
                        "ticks": "",
                        "zerolinecolor": "white"
                      },
                      "zaxis": {
                        "backgroundcolor": "#E5ECF6",
                        "gridcolor": "white",
                        "gridwidth": 2,
                        "linecolor": "white",
                        "showbackground": true,
                        "ticks": "",
                        "zerolinecolor": "white"
                      }
                    },
                    "shapedefaults": {
                      "line": {
                        "color": "#2a3f5f"
                      }
                    },
                    "ternary": {
                      "aaxis": {
                        "gridcolor": "white",
                        "linecolor": "white",
                        "ticks": ""
                      },
                      "baxis": {
                        "gridcolor": "white",
                        "linecolor": "white",
                        "ticks": ""
                      },
                      "bgcolor": "#E5ECF6",
                      "caxis": {
                        "gridcolor": "white",
                        "linecolor": "white",
                        "ticks": ""
                      }
                    },
                    "title": {
                      "x": 0.05
                    },
                    "xaxis": {
                      "automargin": true,
                      "gridcolor": "white",
                      "linecolor": "white",
                      "ticks": "",
                      "title": {
                        "standoff": 15
                      },
                      "zerolinecolor": "white",
                      "zerolinewidth": 2
                    },
                    "yaxis": {
                      "automargin": true,
                      "gridcolor": "white",
                      "linecolor": "white",
                      "ticks": "",
                      "title": {
                        "standoff": 15
                      },
                      "zerolinecolor": "white",
                      "zerolinewidth": 2
                    }
                  }
                },
                "title": {
                  "font": {
                    "size": 24
                  },
                  "text": "Géneros más comunes",
                  "x": 0.5
                },
                "uniformtext": {
                  "minsize": 12,
                  "mode": "hide"
                },
                "width": 800,
                "xaxis": {
                  "anchor": "y",
                  "domain": [
                    0,
                    1
                  ],
                  "title": {
                    "text": "Recuento"
                  }
                },
                "yaxis": {
                  "anchor": "x",
                  "domain": [
                    0,
                    1
                  ],
                  "title": {
                    "text": "Género"
                  }
                }
              }
            }
          },
          "metadata": {},
          "output_type": "display_data"
        },
        {
          "name": "stdout",
          "output_type": "stream",
          "text": [
            "Género: Thriller (recuento: 568)\n",
            "Género: Fantasy (recuento: 624)\n",
            "Género: Crime Fiction (recuento: 672)\n",
            "Género: Mystery (recuento: 734)\n",
            "Género: Novel (recuento: 925)\n",
            "Género: Fiction (recuento: 943)\n",
            "Género: Children's literature (recuento: 1152)\n",
            "Género: Speculative fiction (recuento: 1438)\n",
            "Género: Science Fiction (recuento: 2551)\n",
            "Género:  (recuento: 3718)\n"
          ]
        }
      ],
      "source": [
        "# Contar los géneros individuales\n",
        "genre_counts = Counter()\n",
        "for genre_str in df_book_summaries['Genres']:\n",
        "    genre_list = genre_str.split(\", \")\n",
        "    genre_counts.update(genre_list)\n",
        "\n",
        "# Crear un DataFrame con las columnas 'Género' y 'Recuento'\n",
        "genre_count_df = pd.DataFrame({\"Género\": list(genre_counts.keys()), \"Recuento\": list(genre_counts.values())})\n",
        "\n",
        "# Seleccionar los 10 principales géneros con la cuenta más alta\n",
        "top_genres = genre_count_df.nlargest(columns=[\"Recuento\"], n=10)\n",
        "\n",
        "# Restablecer el índice del DataFrame top_genres\n",
        "top_genres.reset_index(drop=True, inplace=True)\n",
        "\n",
        "# Ordenar los géneros por Recuento\n",
        "top_genres = top_genres.sort_values(by='Recuento', ascending=True)\n",
        "\n",
        "# Crear un gráfico de barras de los recuentos de género utilizando Plotly\n",
        "fig = px.bar(top_genres, x='Recuento', y='Género', \n",
        "             title='Géneros más comunes', height=600, width=800)\n",
        "\n",
        "# Personalizar el diseño del gráfico\n",
        "fig.update_layout(xaxis_title='Recuento', yaxis_title='Género', \n",
        "                  title_x=0.5, title_font_size=24, \n",
        "                  uniformtext_minsize=12, uniformtext_mode='hide')\n",
        "\n",
        "# Mostrar el gráfico\n",
        "fig.show()\n",
        "\n",
        "# Imprimir los recuentos de los 10 géneros principales utilizando el formato dado\n",
        "for index, row in top_genres.iterrows():\n",
        "    print(f\"Género: {row['Género']} (recuento: {row['Recuento']})\")\n"
      ]
    },
    {
      "cell_type": "markdown",
      "metadata": {
        "id": "yJMJxlUXOI28"
      },
      "source": [
        "Se procedera a realizar un limpiado general de los datos buscando, mayusculas o algun patron extraño para que el proceso de procesamiento del lenguaje pueda ser mas efectivo."
      ]
    },
    {
      "cell_type": "code",
      "execution_count": 33,
      "metadata": {
        "id": "bxjRXmbjOYwp"
      },
      "outputs": [],
      "source": [
        "# se crearan dos data frames, el primero con los elementos como ID, fechas fueras de este procesamiento (esta ultima debera tratarse los valores faltantes.)\n",
        "df_book_summaries = df_book_summaries.rename(columns={'Wiki_ID':'id','Freebase_ID':'freebase_id','Title':'title', 'Author':'author', 'Pub_date':'date', 'Genres':'genres', 'Summary':'summary'})\n",
        "df_str = df_book_summaries[['title', 'author', 'genres', 'summary']]\n",
        "df_ok = df_book_summaries[['id', 'freebase_id', 'date']]"
      ]
    },
    {
      "cell_type": "code",
      "execution_count": null,
      "metadata": {
        "colab": {
          "base_uri": "https://localhost:8080/",
          "height": 424
        },
        "id": "kGcXU_MpQVWa",
        "outputId": "8d94549f-73f2-4d9a-b3e3-cca3e89a6536"
      },
      "outputs": [
        {
          "data": {
            "text/html": [
              "\n",
              "  <div id=\"df-0273a6d2-4c49-400d-983a-0068d3259d9c\">\n",
              "    <div class=\"colab-df-container\">\n",
              "      <div>\n",
              "<style scoped>\n",
              "    .dataframe tbody tr th:only-of-type {\n",
              "        vertical-align: middle;\n",
              "    }\n",
              "\n",
              "    .dataframe tbody tr th {\n",
              "        vertical-align: top;\n",
              "    }\n",
              "\n",
              "    .dataframe thead th {\n",
              "        text-align: right;\n",
              "    }\n",
              "</style>\n",
              "<table border=\"1\" class=\"dataframe\">\n",
              "  <thead>\n",
              "    <tr style=\"text-align: right;\">\n",
              "      <th></th>\n",
              "      <th>title</th>\n",
              "      <th>author</th>\n",
              "      <th>genres</th>\n",
              "      <th>summary</th>\n",
              "    </tr>\n",
              "  </thead>\n",
              "  <tbody>\n",
              "    <tr>\n",
              "      <th>0</th>\n",
              "      <td>Animal Farm</td>\n",
              "      <td>George Orwell</td>\n",
              "      <td>Roman à clef</td>\n",
              "      <td>Old Major, the old boar on the Manor Farm, ca...</td>\n",
              "    </tr>\n",
              "    <tr>\n",
              "      <th>1</th>\n",
              "      <td>A Clockwork Orange</td>\n",
              "      <td>Anthony Burgess</td>\n",
              "      <td>Science Fiction</td>\n",
              "      <td>Alex, a teenager living in near-future Englan...</td>\n",
              "    </tr>\n",
              "    <tr>\n",
              "      <th>2</th>\n",
              "      <td>The Plague</td>\n",
              "      <td>Albert Camus</td>\n",
              "      <td>Existentialism</td>\n",
              "      <td>The text of The Plague is divided into five p...</td>\n",
              "    </tr>\n",
              "    <tr>\n",
              "      <th>3</th>\n",
              "      <td>An Enquiry Concerning Human Understanding</td>\n",
              "      <td>David Hume</td>\n",
              "      <td></td>\n",
              "      <td>The argument of the Enquiry proceeds by a ser...</td>\n",
              "    </tr>\n",
              "    <tr>\n",
              "      <th>4</th>\n",
              "      <td>A Fire Upon the Deep</td>\n",
              "      <td>Vernor Vinge</td>\n",
              "      <td>Hard science fiction</td>\n",
              "      <td>The novel posits that space around the Milky ...</td>\n",
              "    </tr>\n",
              "    <tr>\n",
              "      <th>...</th>\n",
              "      <td>...</td>\n",
              "      <td>...</td>\n",
              "      <td>...</td>\n",
              "      <td>...</td>\n",
              "    </tr>\n",
              "    <tr>\n",
              "      <th>16554</th>\n",
              "      <td>Under Wildwood</td>\n",
              "      <td>Colin Meloy</td>\n",
              "      <td></td>\n",
              "      <td>Prue McKeel, having rescued her brother from ...</td>\n",
              "    </tr>\n",
              "    <tr>\n",
              "      <th>16555</th>\n",
              "      <td>Transfer of Power</td>\n",
              "      <td>Vince Flynn</td>\n",
              "      <td>Thriller</td>\n",
              "      <td>The reader first meets Rapp while he is doing...</td>\n",
              "    </tr>\n",
              "    <tr>\n",
              "      <th>16556</th>\n",
              "      <td>Decoded</td>\n",
              "      <td>Jay-Z</td>\n",
              "      <td>Autobiography</td>\n",
              "      <td>The book follows very rough chronological ord...</td>\n",
              "    </tr>\n",
              "    <tr>\n",
              "      <th>16557</th>\n",
              "      <td>America Again: Re-becoming The Greatness We Ne...</td>\n",
              "      <td>Stephen Colbert</td>\n",
              "      <td></td>\n",
              "      <td>Colbert addresses topics including Wall Stree...</td>\n",
              "    </tr>\n",
              "    <tr>\n",
              "      <th>16558</th>\n",
              "      <td>Poor Folk</td>\n",
              "      <td>Fyodor Dostoyevsky</td>\n",
              "      <td>Epistolary novel</td>\n",
              "      <td>Makar Devushkin and Varvara Dobroselova are s...</td>\n",
              "    </tr>\n",
              "  </tbody>\n",
              "</table>\n",
              "<p>16559 rows × 4 columns</p>\n",
              "</div>\n",
              "      <button class=\"colab-df-convert\" onclick=\"convertToInteractive('df-0273a6d2-4c49-400d-983a-0068d3259d9c')\"\n",
              "              title=\"Convert this dataframe to an interactive table.\"\n",
              "              style=\"display:none;\">\n",
              "        \n",
              "  <svg xmlns=\"http://www.w3.org/2000/svg\" height=\"24px\"viewBox=\"0 0 24 24\"\n",
              "       width=\"24px\">\n",
              "    <path d=\"M0 0h24v24H0V0z\" fill=\"none\"/>\n",
              "    <path d=\"M18.56 5.44l.94 2.06.94-2.06 2.06-.94-2.06-.94-.94-2.06-.94 2.06-2.06.94zm-11 1L8.5 8.5l.94-2.06 2.06-.94-2.06-.94L8.5 2.5l-.94 2.06-2.06.94zm10 10l.94 2.06.94-2.06 2.06-.94-2.06-.94-.94-2.06-.94 2.06-2.06.94z\"/><path d=\"M17.41 7.96l-1.37-1.37c-.4-.4-.92-.59-1.43-.59-.52 0-1.04.2-1.43.59L10.3 9.45l-7.72 7.72c-.78.78-.78 2.05 0 2.83L4 21.41c.39.39.9.59 1.41.59.51 0 1.02-.2 1.41-.59l7.78-7.78 2.81-2.81c.8-.78.8-2.07 0-2.86zM5.41 20L4 18.59l7.72-7.72 1.47 1.35L5.41 20z\"/>\n",
              "  </svg>\n",
              "      </button>\n",
              "      \n",
              "  <style>\n",
              "    .colab-df-container {\n",
              "      display:flex;\n",
              "      flex-wrap:wrap;\n",
              "      gap: 12px;\n",
              "    }\n",
              "\n",
              "    .colab-df-convert {\n",
              "      background-color: #E8F0FE;\n",
              "      border: none;\n",
              "      border-radius: 50%;\n",
              "      cursor: pointer;\n",
              "      display: none;\n",
              "      fill: #1967D2;\n",
              "      height: 32px;\n",
              "      padding: 0 0 0 0;\n",
              "      width: 32px;\n",
              "    }\n",
              "\n",
              "    .colab-df-convert:hover {\n",
              "      background-color: #E2EBFA;\n",
              "      box-shadow: 0px 1px 2px rgba(60, 64, 67, 0.3), 0px 1px 3px 1px rgba(60, 64, 67, 0.15);\n",
              "      fill: #174EA6;\n",
              "    }\n",
              "\n",
              "    [theme=dark] .colab-df-convert {\n",
              "      background-color: #3B4455;\n",
              "      fill: #D2E3FC;\n",
              "    }\n",
              "\n",
              "    [theme=dark] .colab-df-convert:hover {\n",
              "      background-color: #434B5C;\n",
              "      box-shadow: 0px 1px 3px 1px rgba(0, 0, 0, 0.15);\n",
              "      filter: drop-shadow(0px 1px 2px rgba(0, 0, 0, 0.3));\n",
              "      fill: #FFFFFF;\n",
              "    }\n",
              "  </style>\n",
              "\n",
              "      <script>\n",
              "        const buttonEl =\n",
              "          document.querySelector('#df-0273a6d2-4c49-400d-983a-0068d3259d9c button.colab-df-convert');\n",
              "        buttonEl.style.display =\n",
              "          google.colab.kernel.accessAllowed ? 'block' : 'none';\n",
              "\n",
              "        async function convertToInteractive(key) {\n",
              "          const element = document.querySelector('#df-0273a6d2-4c49-400d-983a-0068d3259d9c');\n",
              "          const dataTable =\n",
              "            await google.colab.kernel.invokeFunction('convertToInteractive',\n",
              "                                                     [key], {});\n",
              "          if (!dataTable) return;\n",
              "\n",
              "          const docLinkHtml = 'Like what you see? Visit the ' +\n",
              "            '<a target=\"_blank\" href=https://colab.research.google.com/notebooks/data_table.ipynb>data table notebook</a>'\n",
              "            + ' to learn more about interactive tables.';\n",
              "          element.innerHTML = '';\n",
              "          dataTable['output_type'] = 'display_data';\n",
              "          await google.colab.output.renderOutput(dataTable, element);\n",
              "          const docLink = document.createElement('div');\n",
              "          docLink.innerHTML = docLinkHtml;\n",
              "          element.appendChild(docLink);\n",
              "        }\n",
              "      </script>\n",
              "    </div>\n",
              "  </div>\n",
              "  "
            ],
            "text/plain": [
              "                                                   title              author  \\\n",
              "0                                            Animal Farm       George Orwell   \n",
              "1                                     A Clockwork Orange     Anthony Burgess   \n",
              "2                                             The Plague        Albert Camus   \n",
              "3              An Enquiry Concerning Human Understanding          David Hume   \n",
              "4                                   A Fire Upon the Deep        Vernor Vinge   \n",
              "...                                                  ...                 ...   \n",
              "16554                                     Under Wildwood         Colin Meloy   \n",
              "16555                                  Transfer of Power         Vince Flynn   \n",
              "16556                                            Decoded               Jay-Z   \n",
              "16557  America Again: Re-becoming The Greatness We Ne...     Stephen Colbert   \n",
              "16558                                          Poor Folk  Fyodor Dostoyevsky   \n",
              "\n",
              "                     genres                                            summary  \n",
              "0              Roman à clef   Old Major, the old boar on the Manor Farm, ca...  \n",
              "1           Science Fiction   Alex, a teenager living in near-future Englan...  \n",
              "2            Existentialism   The text of The Plague is divided into five p...  \n",
              "3                             The argument of the Enquiry proceeds by a ser...  \n",
              "4      Hard science fiction   The novel posits that space around the Milky ...  \n",
              "...                     ...                                                ...  \n",
              "16554                         Prue McKeel, having rescued her brother from ...  \n",
              "16555              Thriller   The reader first meets Rapp while he is doing...  \n",
              "16556         Autobiography   The book follows very rough chronological ord...  \n",
              "16557                         Colbert addresses topics including Wall Stree...  \n",
              "16558      Epistolary novel   Makar Devushkin and Varvara Dobroselova are s...  \n",
              "\n",
              "[16559 rows x 4 columns]"
            ]
          },
          "execution_count": 13,
          "metadata": {},
          "output_type": "execute_result"
        }
      ],
      "source": [
        "df_str"
      ]
    },
    {
      "cell_type": "code",
      "execution_count": 38,
      "metadata": {
        "colab": {
          "base_uri": "https://localhost:8080/",
          "height": 624
        },
        "id": "V2woiXiYKOdN",
        "outputId": "afcf3d31-86b5-45eb-89a6-adaff573e9f5"
      },
      "outputs": [
        {
          "name": "stdout",
          "output_type": "stream",
          "text": [
            "El Numero de CPUs Disponibles es 8\n",
            "Cada CPU Procesara 2069 Filas del DataFrame\n"
          ]
        },
        {
          "data": {
            "text/html": [
              "<div>\n",
              "<style scoped>\n",
              "    .dataframe tbody tr th:only-of-type {\n",
              "        vertical-align: middle;\n",
              "    }\n",
              "\n",
              "    .dataframe tbody tr th {\n",
              "        vertical-align: top;\n",
              "    }\n",
              "\n",
              "    .dataframe thead th {\n",
              "        text-align: right;\n",
              "    }\n",
              "</style>\n",
              "<table border=\"1\" class=\"dataframe\">\n",
              "  <thead>\n",
              "    <tr style=\"text-align: right;\">\n",
              "      <th></th>\n",
              "      <th>title_limpio</th>\n",
              "      <th>author_limpio</th>\n",
              "      <th>genres_limpio</th>\n",
              "      <th>summary_limpio</th>\n",
              "      <th>summary_limpio_conteo</th>\n",
              "      <th>title_limpio_limpio</th>\n",
              "      <th>author_limpio_limpio</th>\n",
              "      <th>genres_limpio_limpio</th>\n",
              "      <th>summary_limpio_limpio</th>\n",
              "      <th>summary_limpio_conteo_limpio</th>\n",
              "    </tr>\n",
              "  </thead>\n",
              "  <tbody>\n",
              "    <tr>\n",
              "      <th>0</th>\n",
              "      <td>animal farm</td>\n",
              "      <td>george orwell</td>\n",
              "      <td>roman clef</td>\n",
              "      <td>old major the old boar on the manor farm call...</td>\n",
              "      <td>952</td>\n",
              "      <td>animal farm</td>\n",
              "      <td>george orwell</td>\n",
              "      <td>roman clef</td>\n",
              "      <td>old major the old boar on the manor farm call...</td>\n",
              "      <td>952</td>\n",
              "    </tr>\n",
              "    <tr>\n",
              "      <th>1</th>\n",
              "      <td>a clockwork orange</td>\n",
              "      <td>anthony burgess</td>\n",
              "      <td>science fiction</td>\n",
              "      <td>alex a teenager living in near future england...</td>\n",
              "      <td>1036</td>\n",
              "      <td>a clockwork orange</td>\n",
              "      <td>anthony burgess</td>\n",
              "      <td>science fiction</td>\n",
              "      <td>alex a teenager living in near future england...</td>\n",
              "      <td>1036</td>\n",
              "    </tr>\n",
              "    <tr>\n",
              "      <th>2</th>\n",
              "      <td>the plague</td>\n",
              "      <td>albert camus</td>\n",
              "      <td>existentialism</td>\n",
              "      <td>the text of the plague is divided into five p...</td>\n",
              "      <td>1130</td>\n",
              "      <td>the plague</td>\n",
              "      <td>albert camus</td>\n",
              "      <td>existentialism</td>\n",
              "      <td>the text of the plague is divided into five p...</td>\n",
              "      <td>1130</td>\n",
              "    </tr>\n",
              "    <tr>\n",
              "      <th>3</th>\n",
              "      <td>an enquiry concerning human understanding</td>\n",
              "      <td>david hume</td>\n",
              "      <td></td>\n",
              "      <td>the argument of the enquiry proceeds by a ser...</td>\n",
              "      <td>2829</td>\n",
              "      <td>an enquiry concerning human understanding</td>\n",
              "      <td>david hume</td>\n",
              "      <td></td>\n",
              "      <td>the argument of the enquiry proceeds by a ser...</td>\n",
              "      <td>2829</td>\n",
              "    </tr>\n",
              "    <tr>\n",
              "      <th>4</th>\n",
              "      <td>a fire upon the deep</td>\n",
              "      <td>vernor vinge</td>\n",
              "      <td>hard science fiction</td>\n",
              "      <td>the novel posits that space around the milky ...</td>\n",
              "      <td>734</td>\n",
              "      <td>a fire upon the deep</td>\n",
              "      <td>vernor vinge</td>\n",
              "      <td>hard science fiction</td>\n",
              "      <td>the novel posits that space around the milky ...</td>\n",
              "      <td>734</td>\n",
              "    </tr>\n",
              "    <tr>\n",
              "      <th>...</th>\n",
              "      <td>...</td>\n",
              "      <td>...</td>\n",
              "      <td>...</td>\n",
              "      <td>...</td>\n",
              "      <td>...</td>\n",
              "      <td>...</td>\n",
              "      <td>...</td>\n",
              "      <td>...</td>\n",
              "      <td>...</td>\n",
              "      <td>...</td>\n",
              "    </tr>\n",
              "    <tr>\n",
              "      <th>16554</th>\n",
              "      <td>under wildwood</td>\n",
              "      <td>colin meloy</td>\n",
              "      <td></td>\n",
              "      <td>prue mckeel having rescued her brother from t...</td>\n",
              "      <td>154</td>\n",
              "      <td>under wildwood</td>\n",
              "      <td>colin meloy</td>\n",
              "      <td></td>\n",
              "      <td>prue mckeel having rescued her brother from t...</td>\n",
              "      <td>154</td>\n",
              "    </tr>\n",
              "    <tr>\n",
              "      <th>16555</th>\n",
              "      <td>transfer of power</td>\n",
              "      <td>vince flynn</td>\n",
              "      <td>thriller</td>\n",
              "      <td>the reader first meets rapp while he is doing...</td>\n",
              "      <td>213</td>\n",
              "      <td>transfer of power</td>\n",
              "      <td>vince flynn</td>\n",
              "      <td>thriller</td>\n",
              "      <td>the reader first meets rapp while he is doing...</td>\n",
              "      <td>213</td>\n",
              "    </tr>\n",
              "    <tr>\n",
              "      <th>16556</th>\n",
              "      <td>decoded</td>\n",
              "      <td>jay z</td>\n",
              "      <td>autobiography</td>\n",
              "      <td>the book follows very rough chronological ord...</td>\n",
              "      <td>318</td>\n",
              "      <td>decoded</td>\n",
              "      <td>jay z</td>\n",
              "      <td>autobiography</td>\n",
              "      <td>the book follows very rough chronological ord...</td>\n",
              "      <td>318</td>\n",
              "    </tr>\n",
              "    <tr>\n",
              "      <th>16557</th>\n",
              "      <td>america again re becoming the greatness we nev...</td>\n",
              "      <td>stephen colbert</td>\n",
              "      <td></td>\n",
              "      <td>colbert addresses topics including wall stree...</td>\n",
              "      <td>20</td>\n",
              "      <td>america again re becoming the greatness we nev...</td>\n",
              "      <td>stephen colbert</td>\n",
              "      <td></td>\n",
              "      <td>colbert addresses topics including wall stree...</td>\n",
              "      <td>20</td>\n",
              "    </tr>\n",
              "    <tr>\n",
              "      <th>16558</th>\n",
              "      <td>poor folk</td>\n",
              "      <td>fyodor dostoyevsky</td>\n",
              "      <td>epistolary novel</td>\n",
              "      <td>makar devushkin and varvara dobroselova are s...</td>\n",
              "      <td>641</td>\n",
              "      <td>poor folk</td>\n",
              "      <td>fyodor dostoyevsky</td>\n",
              "      <td>epistolary novel</td>\n",
              "      <td>makar devushkin and varvara dobroselova are s...</td>\n",
              "      <td>641</td>\n",
              "    </tr>\n",
              "  </tbody>\n",
              "</table>\n",
              "<p>16559 rows × 10 columns</p>\n",
              "</div>"
            ],
            "text/plain": [
              "                                            title_limpio       author_limpio  \\\n",
              "0                                            animal farm       george orwell   \n",
              "1                                     a clockwork orange     anthony burgess   \n",
              "2                                             the plague        albert camus   \n",
              "3              an enquiry concerning human understanding          david hume   \n",
              "4                                   a fire upon the deep        vernor vinge   \n",
              "...                                                  ...                 ...   \n",
              "16554                                     under wildwood         colin meloy   \n",
              "16555                                  transfer of power         vince flynn   \n",
              "16556                                            decoded               jay z   \n",
              "16557  america again re becoming the greatness we nev...     stephen colbert   \n",
              "16558                                          poor folk  fyodor dostoyevsky   \n",
              "\n",
              "              genres_limpio  \\\n",
              "0                roman clef   \n",
              "1           science fiction   \n",
              "2            existentialism   \n",
              "3                             \n",
              "4      hard science fiction   \n",
              "...                     ...   \n",
              "16554                         \n",
              "16555              thriller   \n",
              "16556         autobiography   \n",
              "16557                         \n",
              "16558      epistolary novel   \n",
              "\n",
              "                                          summary_limpio  \\\n",
              "0       old major the old boar on the manor farm call...   \n",
              "1       alex a teenager living in near future england...   \n",
              "2       the text of the plague is divided into five p...   \n",
              "3       the argument of the enquiry proceeds by a ser...   \n",
              "4       the novel posits that space around the milky ...   \n",
              "...                                                  ...   \n",
              "16554   prue mckeel having rescued her brother from t...   \n",
              "16555   the reader first meets rapp while he is doing...   \n",
              "16556   the book follows very rough chronological ord...   \n",
              "16557   colbert addresses topics including wall stree...   \n",
              "16558   makar devushkin and varvara dobroselova are s...   \n",
              "\n",
              "       summary_limpio_conteo  \\\n",
              "0                        952   \n",
              "1                       1036   \n",
              "2                       1130   \n",
              "3                       2829   \n",
              "4                        734   \n",
              "...                      ...   \n",
              "16554                    154   \n",
              "16555                    213   \n",
              "16556                    318   \n",
              "16557                     20   \n",
              "16558                    641   \n",
              "\n",
              "                                     title_limpio_limpio author_limpio_limpio  \\\n",
              "0                                            animal farm        george orwell   \n",
              "1                                     a clockwork orange      anthony burgess   \n",
              "2                                             the plague         albert camus   \n",
              "3              an enquiry concerning human understanding           david hume   \n",
              "4                                   a fire upon the deep         vernor vinge   \n",
              "...                                                  ...                  ...   \n",
              "16554                                     under wildwood          colin meloy   \n",
              "16555                                  transfer of power          vince flynn   \n",
              "16556                                            decoded                jay z   \n",
              "16557  america again re becoming the greatness we nev...      stephen colbert   \n",
              "16558                                          poor folk   fyodor dostoyevsky   \n",
              "\n",
              "       genres_limpio_limpio  \\\n",
              "0                roman clef   \n",
              "1           science fiction   \n",
              "2            existentialism   \n",
              "3                             \n",
              "4      hard science fiction   \n",
              "...                     ...   \n",
              "16554                         \n",
              "16555              thriller   \n",
              "16556         autobiography   \n",
              "16557                         \n",
              "16558      epistolary novel   \n",
              "\n",
              "                                   summary_limpio_limpio  \\\n",
              "0       old major the old boar on the manor farm call...   \n",
              "1       alex a teenager living in near future england...   \n",
              "2       the text of the plague is divided into five p...   \n",
              "3       the argument of the enquiry proceeds by a ser...   \n",
              "4       the novel posits that space around the milky ...   \n",
              "...                                                  ...   \n",
              "16554   prue mckeel having rescued her brother from t...   \n",
              "16555   the reader first meets rapp while he is doing...   \n",
              "16556   the book follows very rough chronological ord...   \n",
              "16557   colbert addresses topics including wall stree...   \n",
              "16558   makar devushkin and varvara dobroselova are s...   \n",
              "\n",
              "       summary_limpio_conteo_limpio  \n",
              "0                               952  \n",
              "1                              1036  \n",
              "2                              1130  \n",
              "3                              2829  \n",
              "4                               734  \n",
              "...                             ...  \n",
              "16554                           154  \n",
              "16555                           213  \n",
              "16556                           318  \n",
              "16557                            20  \n",
              "16558                           641  \n",
              "\n",
              "[16559 rows x 10 columns]"
            ]
          },
          "execution_count": 38,
          "metadata": {},
          "output_type": "execute_result"
        }
      ],
      "source": [
        "import re\n",
        "from unidecode import unidecode\n",
        "import spacy\n",
        "import multiprocessing\n",
        "# Cargar modelo de lenguaje Spacy\n",
        "nlp = spacy.load(\"en_core_web_sm\")\n",
        "def clean_text(text):\n",
        "    # Verificar si el valor es una cadena\n",
        "    if isinstance(text, str):\n",
        "        # Convertir a minúsculas\n",
        "        text = text.lower()\n",
        "        #remover puntuacion, numeros o algun valor no alfaberico por espacios\n",
        "        text = re.sub(r\"[^a-zA-Z\\s]+\", \" \", text)\n",
        "        # remover non-ASCII chars.\n",
        "        text = re.sub('[^\\x00-\\x7F]+',' ', text)\n",
        "        # Remove URLs\n",
        "        text = re.sub('https?:\\/\\/.*[\\r\\n]*', ' ', text)\n",
        "        # Remove special chars.\n",
        "        text = re.sub('[?!+%{}:;.,\"\\'()\\[\\]_]', '',text)\n",
        "        # Remove double spaces.\n",
        "        text = re.sub('\\s+',' ',text)\n",
        "        return text\n",
        "    else:\n",
        "        # Si no es una cadena, retornar el valor original sin cambios\n",
        "        return text\n",
        "# Definir una lista de nombres de columnas a limpiar\n",
        "cols_to_clean = df_str.columns\n",
        "# Dividir el dataframe en varias secciones\n",
        "num_processes = multiprocessing.cpu_count()\n",
        "print(f'El Numero de CPUs Disponibles es {num_processes}')\n",
        "chunk_size = int(df_str.shape[0] / num_processes)\n",
        "print(f'Cada CPU Procesara {chunk_size} Filas del DataFrame')\n",
        "chunks = [df_str.iloc[i:i+chunk_size,:] for i in range(0, df_str.shape[0], chunk_size)]\n",
        "# Crear una función que procesa cada sección del dataframe en paralelo\n",
        "def process_chunk(chunk):\n",
        "    for col in cols_to_clean:\n",
        "        chunk[col + '_limpio'] = chunk[col].apply(clean_text)\n",
        "    return chunk\n",
        "# Procesar cada sección del dataframe en paralelo\n",
        "with multiprocessing.Pool(processes=num_processes) as pool:\n",
        "    result_chunks = pool.map(process_chunk, chunks)\n",
        "\n",
        "# Unir los resultados de cada sección del dataframe\n",
        "df_str_limpio = pd.concat(result_chunks)\n",
        "\n",
        "df_str_limpio"
      ]
    },
    {
      "cell_type": "code",
      "execution_count": 44,
      "metadata": {
        "colab": {
          "base_uri": "https://localhost:8080/",
          "height": 143
        },
        "id": "BaC5UkSuBNos",
        "outputId": "61d8a030-b081-48c6-d12a-1796cb6b57e1"
      },
      "outputs": [
        {
          "name": "stdout",
          "output_type": "stream",
          "text": [
            "Numero promedio de palabras en el summary de un libro : 436.49\n"
          ]
        },
        {
          "data": {
            "text/html": [
              "<div>\n",
              "<style scoped>\n",
              "    .dataframe tbody tr th:only-of-type {\n",
              "        vertical-align: middle;\n",
              "    }\n",
              "\n",
              "    .dataframe tbody tr th {\n",
              "        vertical-align: top;\n",
              "    }\n",
              "\n",
              "    .dataframe thead th {\n",
              "        text-align: right;\n",
              "    }\n",
              "</style>\n",
              "<table border=\"1\" class=\"dataframe\">\n",
              "  <thead>\n",
              "    <tr style=\"text-align: right;\">\n",
              "      <th></th>\n",
              "      <th>title_limpio</th>\n",
              "      <th>author_limpio</th>\n",
              "      <th>genres_limpio</th>\n",
              "      <th>summary_limpio</th>\n",
              "      <th>summary_limpio_conteo</th>\n",
              "    </tr>\n",
              "  </thead>\n",
              "  <tbody>\n",
              "    <tr>\n",
              "      <th>12395</th>\n",
              "      <td>kushiel s mercy</td>\n",
              "      <td>jacqueline carey</td>\n",
              "      <td>speculative fiction</td>\n",
              "      <td>upon reaching the city of elua sidonie and im...</td>\n",
              "      <td>10531</td>\n",
              "    </tr>\n",
              "    <tr>\n",
              "      <th>518</th>\n",
              "      <td>the history of tom jones a foundling</td>\n",
              "      <td>henry fielding</td>\n",
              "      <td>fiction</td>\n",
              "      <td>the novel s events occupy eighteen books squi...</td>\n",
              "      <td>9161</td>\n",
              "    </tr>\n",
              "    <tr>\n",
              "      <th>14672</th>\n",
              "      <td>fire world</td>\n",
              "      <td>chris d lacey</td>\n",
              "      <td>fantasy</td>\n",
              "      <td>it opens on the planet co pern ica with couns...</td>\n",
              "      <td>8065</td>\n",
              "    </tr>\n",
              "  </tbody>\n",
              "</table>\n",
              "</div>"
            ],
            "text/plain": [
              "                               title_limpio     author_limpio  \\\n",
              "12395                       kushiel s mercy  jacqueline carey   \n",
              "518    the history of tom jones a foundling    henry fielding   \n",
              "14672                            fire world     chris d lacey   \n",
              "\n",
              "             genres_limpio                                     summary_limpio  \\\n",
              "12395  speculative fiction   upon reaching the city of elua sidonie and im...   \n",
              "518                fiction   the novel s events occupy eighteen books squi...   \n",
              "14672              fantasy   it opens on the planet co pern ica with couns...   \n",
              "\n",
              "       summary_limpio_conteo  \n",
              "12395                  10531  \n",
              "518                     9161  \n",
              "14672                   8065  "
            ]
          },
          "execution_count": 44,
          "metadata": {},
          "output_type": "execute_result"
        }
      ],
      "source": [
        "df_str = df_str_limpio[['title_limpio', 'author_limpio', 'genres_limpio', 'summary_limpio']].copy()\n",
        "\n",
        "# Función para contar palabras en una cadena\n",
        "def count_words(text):\n",
        "    words = text.split()\n",
        "    return len(words)\n",
        "\n",
        "df_str['summary_limpio_conteo'] = df_str['summary_limpio'].apply(count_words)\n",
        "print(f'Numero promedio de palabras en el summary de un libro : {df_str.summary_limpio_conteo.mean():.2f}')\n",
        "df_str.sort_values(by=['summary_limpio_conteo'], ascending=False).head(3)"
      ]
    },
    {
      "cell_type": "code",
      "execution_count": 45,
      "metadata": {
        "colab": {
          "base_uri": "https://localhost:8080/"
        },
        "id": "xXE9x5WJDohk",
        "outputId": "0a71815d-1516-4f9d-aad9-8191a6457065"
      },
      "outputs": [
        {
          "name": "stdout",
          "output_type": "stream",
          "text": [
            "Número de palabras únicas: 117854\n"
          ]
        }
      ],
      "source": [
        "# Función para obtener palabras únicas en una cadena\n",
        "def unique_words(text):\n",
        "    words = text.split()\n",
        "    return set(words)\n",
        "\n",
        "# Obtener palabras únicas en la columna\n",
        "unique_word_set = set()\n",
        "for text in df_str['summary_limpio']:\n",
        "    unique_word_set.update(unique_words(text))\n",
        "\n",
        "# Contar palabras únicas\n",
        "unique_word_count = len(unique_word_set)\n",
        "print(\"Número de palabras únicas:\", unique_word_count)"
      ]
    },
    {
      "cell_type": "code",
      "execution_count": 46,
      "metadata": {
        "id": "HcNt2JorJSlB"
      },
      "outputs": [],
      "source": [
        "import nltk\n",
        "import spacy\n",
        "from nltk.corpus import stopwords"
      ]
    },
    {
      "cell_type": "code",
      "execution_count": 48,
      "metadata": {
        "colab": {
          "base_uri": "https://localhost:8080/"
        },
        "id": "PXnJcju0JRIU",
        "outputId": "74c9ce3f-f0fa-4afe-d8bc-22316abf14b2"
      },
      "outputs": [
        {
          "name": "stderr",
          "output_type": "stream",
          "text": [
            "[nltk_data] Downloading package stopwords to /home/andres/nltk_data...\n",
            "[nltk_data]   Package stopwords is already up-to-date!\n",
            "[nltk_data] Downloading package punkt to /home/andres/nltk_data...\n",
            "[nltk_data]   Package punkt is already up-to-date!\n"
          ]
        },
        {
          "data": {
            "text/plain": [
              "True"
            ]
          },
          "execution_count": 48,
          "metadata": {},
          "output_type": "execute_result"
        }
      ],
      "source": [
        "# Descargar los recursos necesarios\n",
        "nltk.download('stopwords')\n",
        "nltk.download('punkt')"
      ]
    },
    {
      "cell_type": "code",
      "execution_count": 51,
      "metadata": {
        "colab": {
          "base_uri": "https://localhost:8080/",
          "height": 274
        },
        "id": "mVWyOlFuJA0S",
        "outputId": "d55325c1-b77f-441a-c70b-8e5768a630a6"
      },
      "outputs": [
        {
          "name": "stdout",
          "output_type": "stream",
          "text": [
            "Promedio de cantidad de palabras por obersvación nltk: 233.53\n",
            "Promedio de cantidad de palabras por obersvación spacy: 220.83\n"
          ]
        },
        {
          "data": {
            "text/html": [
              "<div>\n",
              "<style scoped>\n",
              "    .dataframe tbody tr th:only-of-type {\n",
              "        vertical-align: middle;\n",
              "    }\n",
              "\n",
              "    .dataframe tbody tr th {\n",
              "        vertical-align: top;\n",
              "    }\n",
              "\n",
              "    .dataframe thead th {\n",
              "        text-align: right;\n",
              "    }\n",
              "</style>\n",
              "<table border=\"1\" class=\"dataframe\">\n",
              "  <thead>\n",
              "    <tr style=\"text-align: right;\">\n",
              "      <th></th>\n",
              "      <th>title_limpio</th>\n",
              "      <th>author_limpio</th>\n",
              "      <th>genres_limpio</th>\n",
              "      <th>summary_limpio</th>\n",
              "      <th>summary_limpio_conteo</th>\n",
              "      <th>summary_limpio_sp_nltk</th>\n",
              "      <th>summary_limpio_sp_spacy</th>\n",
              "      <th>summary_limpio_sp_nltk_conteo</th>\n",
              "      <th>summary_limpio_sp_spacy_conteo</th>\n",
              "    </tr>\n",
              "  </thead>\n",
              "  <tbody>\n",
              "    <tr>\n",
              "      <th>12395</th>\n",
              "      <td>kushiel s mercy</td>\n",
              "      <td>jacqueline carey</td>\n",
              "      <td>speculative fiction</td>\n",
              "      <td>upon reaching the city of elua sidonie and im...</td>\n",
              "      <td>10531</td>\n",
              "      <td>upon reaching city elua sidonie imriel find ma...</td>\n",
              "      <td>reaching city elua sidonie imriel find people ...</td>\n",
              "      <td>5117</td>\n",
              "      <td>4653</td>\n",
              "    </tr>\n",
              "    <tr>\n",
              "      <th>518</th>\n",
              "      <td>the history of tom jones a foundling</td>\n",
              "      <td>henry fielding</td>\n",
              "      <td>fiction</td>\n",
              "      <td>the novel s events occupy eighteen books squi...</td>\n",
              "      <td>9161</td>\n",
              "      <td>novel events occupy eighteen books squire allw...</td>\n",
              "      <td>novel s events occupy eighteen books squire al...</td>\n",
              "      <td>4591</td>\n",
              "      <td>4343</td>\n",
              "    </tr>\n",
              "    <tr>\n",
              "      <th>14672</th>\n",
              "      <td>fire world</td>\n",
              "      <td>chris d lacey</td>\n",
              "      <td>fantasy</td>\n",
              "      <td>it opens on the planet co pern ica with couns...</td>\n",
              "      <td>8065</td>\n",
              "      <td>opens planet co pern ica counsellor str mberg ...</td>\n",
              "      <td>opens planet co pern ica counsellor str mberg ...</td>\n",
              "      <td>3938</td>\n",
              "      <td>3518</td>\n",
              "    </tr>\n",
              "  </tbody>\n",
              "</table>\n",
              "</div>"
            ],
            "text/plain": [
              "                               title_limpio     author_limpio  \\\n",
              "12395                       kushiel s mercy  jacqueline carey   \n",
              "518    the history of tom jones a foundling    henry fielding   \n",
              "14672                            fire world     chris d lacey   \n",
              "\n",
              "             genres_limpio                                     summary_limpio  \\\n",
              "12395  speculative fiction   upon reaching the city of elua sidonie and im...   \n",
              "518                fiction   the novel s events occupy eighteen books squi...   \n",
              "14672              fantasy   it opens on the planet co pern ica with couns...   \n",
              "\n",
              "       summary_limpio_conteo  \\\n",
              "12395                  10531   \n",
              "518                     9161   \n",
              "14672                   8065   \n",
              "\n",
              "                                  summary_limpio_sp_nltk  \\\n",
              "12395  upon reaching city elua sidonie imriel find ma...   \n",
              "518    novel events occupy eighteen books squire allw...   \n",
              "14672  opens planet co pern ica counsellor str mberg ...   \n",
              "\n",
              "                                 summary_limpio_sp_spacy  \\\n",
              "12395  reaching city elua sidonie imriel find people ...   \n",
              "518    novel s events occupy eighteen books squire al...   \n",
              "14672  opens planet co pern ica counsellor str mberg ...   \n",
              "\n",
              "       summary_limpio_sp_nltk_conteo  summary_limpio_sp_spacy_conteo  \n",
              "12395                           5117                            4653  \n",
              "518                             4591                            4343  \n",
              "14672                           3938                            3518  "
            ]
          },
          "execution_count": 51,
          "metadata": {},
          "output_type": "execute_result"
        }
      ],
      "source": [
        "# Crear el conjunto de palabras vacías de NLTK\n",
        "nltk_stopwords = set(stopwords.words('english'))\n",
        "\n",
        "# Crear el objeto nlp de spaCy\n",
        "nlp = spacy.load(\"en_core_web_sm\")\n",
        "\n",
        "# Crear una función para eliminar palabras vacías utilizando NLTK o spaCy\n",
        "def remove_stopwords(text, library=\"nltk\"):\n",
        "    # Tokenizar el texto utilizando NLTK\n",
        "    words = nltk.word_tokenize(text)\n",
        "\n",
        "    if library == \"nltk\":\n",
        "        # Filtrar las palabras que no sean palabras vacías de NLTK\n",
        "        filtered_words = [word for word in words if not word in nltk_stopwords]\n",
        "    elif library == \"spacy\":\n",
        "        # Filtrar las palabras que no sean palabras vacías de spaCy\n",
        "        filtered_words = [word for word in words if not nlp.vocab[word].is_stop]\n",
        "    else:\n",
        "        raise ValueError(\"Invalid library argument. Use 'nltk' or 'spacy'.\")\n",
        "\n",
        "    # Unir las palabras filtradas en una cadena de texto y retornarla\n",
        "    return ' '.join(filtered_words)\n",
        "\n",
        "df_str['summary_limpio_sp_nltk'] = df_str['summary_limpio'].apply(remove_stopwords)\n",
        "df_str['summary_limpio_sp_spacy'] = df_str['summary_limpio'].apply(lambda text: remove_stopwords(text, library=\"spacy\"))\n",
        "\n",
        "df_str['summary_limpio_sp_nltk_conteo'] = df_str['summary_limpio_sp_nltk'].apply(count_words)\n",
        "df_str['summary_limpio_sp_spacy_conteo'] = df_str['summary_limpio_sp_spacy'].apply(count_words)\n",
        "print(f'Promedio de cantidad de palabras por obersvación nltk: {df_str.summary_limpio_sp_nltk_conteo.mean():.2f}')\n",
        "print(f'Promedio de cantidad de palabras por obersvación spacy: {df_str.summary_limpio_sp_spacy_conteo.mean():.2f}')\n",
        "df_str.sort_values(by=['summary_limpio_conteo'], ascending=False).head(3)"
      ]
    },
    {
      "cell_type": "markdown",
      "metadata": {
        "id": "aSU4HG60QPzY"
      },
      "source": [
        "Debemos crear listaas y comparar que se elimina en cada para argumentar"
      ]
    },
    {
      "cell_type": "code",
      "execution_count": 52,
      "metadata": {
        "colab": {
          "base_uri": "https://localhost:8080/"
        },
        "id": "UQUmw96xKsuo",
        "outputId": "e7063312-b792-4c96-e6d2-9a0707ce620e"
      },
      "outputs": [
        {
          "name": "stdout",
          "output_type": "stream",
          "text": [
            "Número de palabras únicas antes de stopwords: 117854\n",
            "Número de palabras únicas NLTK: 117698\n",
            "Número de palabras únicas SpaCy: 117547\n"
          ]
        }
      ],
      "source": [
        "# Obtener palabras únicas en la columna\n",
        "unique_word_set = set()\n",
        "for text in df_str['summary_limpio']:\n",
        "    unique_word_set.update(unique_words(text))\n",
        "\n",
        "# Contar palabras únicas\n",
        "unique_word_count = len(unique_word_set)\n",
        "print(\"Número de palabras únicas antes de stopwords:\", unique_word_count)\n",
        "\n",
        "# Obtener palabras únicas en la columna\n",
        "unique_word_set = set()\n",
        "for text in df_str['summary_limpio_sp_nltk']:\n",
        "    unique_word_set.update(unique_words(text))\n",
        "\n",
        "# Contar palabras únicas\n",
        "unique_word_count = len(unique_word_set)\n",
        "print(\"Número de palabras únicas NLTK:\", unique_word_count)\n",
        "\n",
        "\n",
        "\n",
        "# Obtener palabras únicas en la columna\n",
        "unique_word_set = set()\n",
        "for text in df_str['summary_limpio_sp_spacy']:\n",
        "    unique_word_set.update(unique_words(text))\n",
        "\n",
        "# Contar palabras únicas\n",
        "unique_word_count = len(unique_word_set)\n",
        "print(\"Número de palabras únicas SpaCy:\", unique_word_count)"
      ]
    },
    {
      "cell_type": "code",
      "execution_count": 53,
      "metadata": {
        "colab": {
          "base_uri": "https://localhost:8080/"
        },
        "id": "kvU2-PMpMNaZ",
        "outputId": "28157220-b004-41eb-8298-866e2109a1c3"
      },
      "outputs": [
        {
          "name": "stderr",
          "output_type": "stream",
          "text": [
            "[nltk_data] Downloading package stopwords to /home/andres/nltk_data...\n",
            "[nltk_data]   Package stopwords is already up-to-date!\n",
            "[nltk_data] Downloading package punkt to /home/andres/nltk_data...\n",
            "[nltk_data]   Package punkt is already up-to-date!\n"
          ]
        }
      ],
      "source": [
        "import nltk\n",
        "import spacy\n",
        "from nltk.stem import PorterStemmer\n",
        "from nltk.corpus import stopwords\n",
        "\n",
        "# Descargar los recursos necesarios\n",
        "nltk.download('stopwords')\n",
        "nltk.download('punkt')\n",
        "# Crear el objeto nlp de spaCy\n",
        "nlp = spacy.load(\"en_core_web_sm\")\n",
        "# Crear el objeto PorterStemmer de NLTK\n",
        "stemmer = PorterStemmer()\n",
        "# Función para realizar stemming y lematización en un texto\n",
        "def stem_and_lemmatize(text, stem=True, lemmatize=True):\n",
        "    # Tokenizar el texto utilizando NLTK\n",
        "    words = nltk.word_tokenize(text)\n",
        "    # Aplicar stemming si está habilitado\n",
        "    if stem:\n",
        "        words = [stemmer.stem(word) for word in words]\n",
        "    # Aplicar lematización si está habilitado\n",
        "    if lemmatize:\n",
        "        words = ' '.join(words)\n",
        "        doc = nlp(words)\n",
        "        words = [token.lemma_ for token in doc]\n",
        "    # Unir las palabras procesadas en una cadena de texto y retornarla\n",
        "    return ' '.join(words)\n",
        "# Aplicar stemming y lematización al texto\n",
        "df_str['summary_lemma_stemmer'] = df_str['summary_limpio'].apply(lambda text: stem_and_lemmatize(text, stem=True, lemmatize=True))\n",
        "df_str['summary_lemma'] = df_str['summary_limpio'].apply(lambda text: stem_and_lemmatize(text, stem=False, lemmatize=True))\n",
        "df_str['summary_stemmer'] = df_str['summary_limpio'].apply(lambda text: stem_and_lemmatize(text, stem=True, lemmatize=False))\n"
      ]
    },
    {
      "cell_type": "code",
      "execution_count": 54,
      "metadata": {
        "colab": {
          "base_uri": "https://localhost:8080/"
        },
        "id": "KRge0RLqT7oc",
        "outputId": "1ace596f-dcce-45c7-8aa2-463c563d5e26"
      },
      "outputs": [
        {
          "name": "stdout",
          "output_type": "stream",
          "text": [
            "Número de palabras únicas stemming y lematización : 87316\n",
            "Número de palabras únicas lematización : 102448\n",
            "Número de palabras únicas stemming : 87298\n"
          ]
        }
      ],
      "source": [
        "# Obtener palabras únicas en la columna\n",
        "unique_word_set = set()\n",
        "for text in df_str['summary_lemma_stemmer']:\n",
        "    unique_word_set.update(unique_words(text))\n",
        "\n",
        "# Contar palabras únicas\n",
        "unique_word_count = len(unique_word_set)\n",
        "print(\"Número de palabras únicas stemming y lematización :\", unique_word_count)\n",
        "\n",
        "# Obtener palabras únicas en la columna\n",
        "unique_word_set = set()\n",
        "for text in df_str['summary_lemma']:\n",
        "    unique_word_set.update(unique_words(text))\n",
        "\n",
        "# Contar palabras únicas\n",
        "unique_word_count = len(unique_word_set)\n",
        "print(\"Número de palabras únicas lematización :\", unique_word_count)\n",
        "\n",
        "\n",
        "\n",
        "# Obtener palabras únicas en la columna\n",
        "unique_word_set = set()\n",
        "for text in df_str['summary_stemmer']:\n",
        "    unique_word_set.update(unique_words(text))\n",
        "\n",
        "# Contar palabras únicas\n",
        "unique_word_count = len(unique_word_set)\n",
        "print(\"Número de palabras únicas stemming :\", unique_word_count)"
      ]
    },
    {
      "cell_type": "code",
      "execution_count": null,
      "metadata": {
        "colab": {
          "base_uri": "https://localhost:8080/",
          "height": 1000
        },
        "id": "8dKmd1qY10rT",
        "outputId": "415272f5-8cfc-4886-9973-1a8297c5278c"
      },
      "outputs": [
        {
          "data": {
            "text/html": [
              "\n",
              "  <div id=\"df-7add59df-28b0-4113-bd91-642b236f2d48\">\n",
              "    <div class=\"colab-df-container\">\n",
              "      <div>\n",
              "<style scoped>\n",
              "    .dataframe tbody tr th:only-of-type {\n",
              "        vertical-align: middle;\n",
              "    }\n",
              "\n",
              "    .dataframe tbody tr th {\n",
              "        vertical-align: top;\n",
              "    }\n",
              "\n",
              "    .dataframe thead th {\n",
              "        text-align: right;\n",
              "    }\n",
              "</style>\n",
              "<table border=\"1\" class=\"dataframe\">\n",
              "  <thead>\n",
              "    <tr style=\"text-align: right;\">\n",
              "      <th></th>\n",
              "      <th>title_limpio</th>\n",
              "      <th>author_limpio</th>\n",
              "      <th>genres_limpio</th>\n",
              "      <th>summary_limpio</th>\n",
              "      <th>summary_limpio_conteo</th>\n",
              "      <th>summary_limpio_sp_nltk</th>\n",
              "      <th>summary_limpio_sp_spacy</th>\n",
              "      <th>summary_limpio_sp_nltk_conteo</th>\n",
              "      <th>summary_limpio_sp_spacy_conteo</th>\n",
              "      <th>summary_lemma_stemmer</th>\n",
              "      <th>summary_lemma</th>\n",
              "      <th>summary_stemmer</th>\n",
              "    </tr>\n",
              "  </thead>\n",
              "  <tbody>\n",
              "    <tr>\n",
              "      <th>0</th>\n",
              "      <td>animal farm</td>\n",
              "      <td>george orwell</td>\n",
              "      <td>roman clef</td>\n",
              "      <td>old major the old boar on the manor farm call...</td>\n",
              "      <td>952</td>\n",
              "      <td>old major old boar manor farm calls animals fa...</td>\n",
              "      <td>old major old boar manor farm calls animals fa...</td>\n",
              "      <td>534</td>\n",
              "      <td>508</td>\n",
              "      <td>old major the old boar on the manor farm call ...</td>\n",
              "      <td>old major the old boar on the manor farm call ...</td>\n",
              "      <td>old major the old boar on the manor farm call ...</td>\n",
              "    </tr>\n",
              "    <tr>\n",
              "      <th>1</th>\n",
              "      <td>a clockwork orange</td>\n",
              "      <td>anthony burgess</td>\n",
              "      <td>science fiction</td>\n",
              "      <td>alex a teenager living in near future england...</td>\n",
              "      <td>1036</td>\n",
              "      <td>alex teenager living near future england leads...</td>\n",
              "      <td>alex teenager living near future england leads...</td>\n",
              "      <td>589</td>\n",
              "      <td>573</td>\n",
              "      <td>alex a teenag live in near futur england lead ...</td>\n",
              "      <td>alex a teenager live in near future england le...</td>\n",
              "      <td>alex a teenag live in near futur england lead ...</td>\n",
              "    </tr>\n",
              "    <tr>\n",
              "      <th>2</th>\n",
              "      <td>the plague</td>\n",
              "      <td>albert camus</td>\n",
              "      <td>existentialism</td>\n",
              "      <td>the text of the plague is divided into five p...</td>\n",
              "      <td>1130</td>\n",
              "      <td>text plague divided five parts town oran thous...</td>\n",
              "      <td>text plague divided parts town oran thousands ...</td>\n",
              "      <td>609</td>\n",
              "      <td>571</td>\n",
              "      <td>the text of the plagu be divid into five part ...</td>\n",
              "      <td>the text of the plague be divide into five par...</td>\n",
              "      <td>the text of the plagu is divid into five part ...</td>\n",
              "    </tr>\n",
              "    <tr>\n",
              "      <th>3</th>\n",
              "      <td>an enquiry concerning human understanding</td>\n",
              "      <td>david hume</td>\n",
              "      <td></td>\n",
              "      <td>the argument of the enquiry proceeds by a ser...</td>\n",
              "      <td>2829</td>\n",
              "      <td>argument enquiry proceeds series incremental s...</td>\n",
              "      <td>argument enquiry proceeds series incremental s...</td>\n",
              "      <td>1429</td>\n",
              "      <td>1241</td>\n",
              "      <td>the argument of the enquiri proce by a seri of...</td>\n",
              "      <td>the argument of the enquiry proceed by a serie...</td>\n",
              "      <td>the argument of the enquiri proce by a seri of...</td>\n",
              "    </tr>\n",
              "    <tr>\n",
              "      <th>4</th>\n",
              "      <td>a fire upon the deep</td>\n",
              "      <td>vernor vinge</td>\n",
              "      <td>hard science fiction</td>\n",
              "      <td>the novel posits that space around the milky ...</td>\n",
              "      <td>734</td>\n",
              "      <td>novel posits space around milky way divided co...</td>\n",
              "      <td>novel posits space milky way divided concentri...</td>\n",
              "      <td>431</td>\n",
              "      <td>416</td>\n",
              "      <td>the novel posit that space around the milki wa...</td>\n",
              "      <td>the novel posit that space around the milky wa...</td>\n",
              "      <td>the novel posit that space around the milki wa...</td>\n",
              "    </tr>\n",
              "    <tr>\n",
              "      <th>...</th>\n",
              "      <td>...</td>\n",
              "      <td>...</td>\n",
              "      <td>...</td>\n",
              "      <td>...</td>\n",
              "      <td>...</td>\n",
              "      <td>...</td>\n",
              "      <td>...</td>\n",
              "      <td>...</td>\n",
              "      <td>...</td>\n",
              "      <td>...</td>\n",
              "      <td>...</td>\n",
              "      <td>...</td>\n",
              "    </tr>\n",
              "    <tr>\n",
              "      <th>16554</th>\n",
              "      <td>under wildwood</td>\n",
              "      <td>colin meloy</td>\n",
              "      <td></td>\n",
              "      <td>prue mckeel having rescued her brother from t...</td>\n",
              "      <td>154</td>\n",
              "      <td>prue mckeel rescued brother dowager governess ...</td>\n",
              "      <td>prue mckeel having rescued brother dowager gov...</td>\n",
              "      <td>85</td>\n",
              "      <td>83</td>\n",
              "      <td>prue mckeel have rescu her brother from the do...</td>\n",
              "      <td>prue mckeel having rescue her brother from the...</td>\n",
              "      <td>prue mckeel have rescu her brother from the do...</td>\n",
              "    </tr>\n",
              "    <tr>\n",
              "      <th>16555</th>\n",
              "      <td>transfer of power</td>\n",
              "      <td>vince flynn</td>\n",
              "      <td>thriller</td>\n",
              "      <td>the reader first meets rapp while he is doing...</td>\n",
              "      <td>213</td>\n",
              "      <td>reader first meets rapp covert operation iran ...</td>\n",
              "      <td>reader meets rapp covert operation iran discov...</td>\n",
              "      <td>115</td>\n",
              "      <td>105</td>\n",
              "      <td>the reader first meet rapp while he be do a co...</td>\n",
              "      <td>the reader first meet rapp while he be do a co...</td>\n",
              "      <td>the reader first meet rapp while he is do a co...</td>\n",
              "    </tr>\n",
              "    <tr>\n",
              "      <th>16556</th>\n",
              "      <td>decoded</td>\n",
              "      <td>jay z</td>\n",
              "      <td>autobiography</td>\n",
              "      <td>the book follows very rough chronological ord...</td>\n",
              "      <td>318</td>\n",
              "      <td>book follows rough chronological order switchi...</td>\n",
              "      <td>book follows rough chronological order switchi...</td>\n",
              "      <td>155</td>\n",
              "      <td>145</td>\n",
              "      <td>the book follow veri rough chronolog order whi...</td>\n",
              "      <td>the book follow very rough chronological order...</td>\n",
              "      <td>the book follow veri rough chronolog order whi...</td>\n",
              "    </tr>\n",
              "    <tr>\n",
              "      <th>16557</th>\n",
              "      <td>america again re becoming the greatness we nev...</td>\n",
              "      <td>stephen colbert</td>\n",
              "      <td></td>\n",
              "      <td>colbert addresses topics including wall stree...</td>\n",
              "      <td>20</td>\n",
              "      <td>colbert addresses topics including wall street...</td>\n",
              "      <td>colbert addresses topics including wall street...</td>\n",
              "      <td>16</td>\n",
              "      <td>16</td>\n",
              "      <td>colbert address topic includ wall street campa...</td>\n",
              "      <td>colbert address topic include wall street camp...</td>\n",
              "      <td>colbert address topic includ wall street campa...</td>\n",
              "    </tr>\n",
              "    <tr>\n",
              "      <th>16558</th>\n",
              "      <td>poor folk</td>\n",
              "      <td>fyodor dostoyevsky</td>\n",
              "      <td>epistolary novel</td>\n",
              "      <td>makar devushkin and varvara dobroselova are s...</td>\n",
              "      <td>641</td>\n",
              "      <td>makar devushkin varvara dobroselova second cou...</td>\n",
              "      <td>makar devushkin varvara dobroselova second cou...</td>\n",
              "      <td>328</td>\n",
              "      <td>293</td>\n",
              "      <td>makar devushkin and varvara dobroselova be sec...</td>\n",
              "      <td>makar devushkin and varvara dobroselova be sec...</td>\n",
              "      <td>makar devushkin and varvara dobroselova are se...</td>\n",
              "    </tr>\n",
              "  </tbody>\n",
              "</table>\n",
              "<p>16559 rows × 12 columns</p>\n",
              "</div>\n",
              "      <button class=\"colab-df-convert\" onclick=\"convertToInteractive('df-7add59df-28b0-4113-bd91-642b236f2d48')\"\n",
              "              title=\"Convert this dataframe to an interactive table.\"\n",
              "              style=\"display:none;\">\n",
              "        \n",
              "  <svg xmlns=\"http://www.w3.org/2000/svg\" height=\"24px\"viewBox=\"0 0 24 24\"\n",
              "       width=\"24px\">\n",
              "    <path d=\"M0 0h24v24H0V0z\" fill=\"none\"/>\n",
              "    <path d=\"M18.56 5.44l.94 2.06.94-2.06 2.06-.94-2.06-.94-.94-2.06-.94 2.06-2.06.94zm-11 1L8.5 8.5l.94-2.06 2.06-.94-2.06-.94L8.5 2.5l-.94 2.06-2.06.94zm10 10l.94 2.06.94-2.06 2.06-.94-2.06-.94-.94-2.06-.94 2.06-2.06.94z\"/><path d=\"M17.41 7.96l-1.37-1.37c-.4-.4-.92-.59-1.43-.59-.52 0-1.04.2-1.43.59L10.3 9.45l-7.72 7.72c-.78.78-.78 2.05 0 2.83L4 21.41c.39.39.9.59 1.41.59.51 0 1.02-.2 1.41-.59l7.78-7.78 2.81-2.81c.8-.78.8-2.07 0-2.86zM5.41 20L4 18.59l7.72-7.72 1.47 1.35L5.41 20z\"/>\n",
              "  </svg>\n",
              "      </button>\n",
              "      \n",
              "  <style>\n",
              "    .colab-df-container {\n",
              "      display:flex;\n",
              "      flex-wrap:wrap;\n",
              "      gap: 12px;\n",
              "    }\n",
              "\n",
              "    .colab-df-convert {\n",
              "      background-color: #E8F0FE;\n",
              "      border: none;\n",
              "      border-radius: 50%;\n",
              "      cursor: pointer;\n",
              "      display: none;\n",
              "      fill: #1967D2;\n",
              "      height: 32px;\n",
              "      padding: 0 0 0 0;\n",
              "      width: 32px;\n",
              "    }\n",
              "\n",
              "    .colab-df-convert:hover {\n",
              "      background-color: #E2EBFA;\n",
              "      box-shadow: 0px 1px 2px rgba(60, 64, 67, 0.3), 0px 1px 3px 1px rgba(60, 64, 67, 0.15);\n",
              "      fill: #174EA6;\n",
              "    }\n",
              "\n",
              "    [theme=dark] .colab-df-convert {\n",
              "      background-color: #3B4455;\n",
              "      fill: #D2E3FC;\n",
              "    }\n",
              "\n",
              "    [theme=dark] .colab-df-convert:hover {\n",
              "      background-color: #434B5C;\n",
              "      box-shadow: 0px 1px 3px 1px rgba(0, 0, 0, 0.15);\n",
              "      filter: drop-shadow(0px 1px 2px rgba(0, 0, 0, 0.3));\n",
              "      fill: #FFFFFF;\n",
              "    }\n",
              "  </style>\n",
              "\n",
              "      <script>\n",
              "        const buttonEl =\n",
              "          document.querySelector('#df-7add59df-28b0-4113-bd91-642b236f2d48 button.colab-df-convert');\n",
              "        buttonEl.style.display =\n",
              "          google.colab.kernel.accessAllowed ? 'block' : 'none';\n",
              "\n",
              "        async function convertToInteractive(key) {\n",
              "          const element = document.querySelector('#df-7add59df-28b0-4113-bd91-642b236f2d48');\n",
              "          const dataTable =\n",
              "            await google.colab.kernel.invokeFunction('convertToInteractive',\n",
              "                                                     [key], {});\n",
              "          if (!dataTable) return;\n",
              "\n",
              "          const docLinkHtml = 'Like what you see? Visit the ' +\n",
              "            '<a target=\"_blank\" href=https://colab.research.google.com/notebooks/data_table.ipynb>data table notebook</a>'\n",
              "            + ' to learn more about interactive tables.';\n",
              "          element.innerHTML = '';\n",
              "          dataTable['output_type'] = 'display_data';\n",
              "          await google.colab.output.renderOutput(dataTable, element);\n",
              "          const docLink = document.createElement('div');\n",
              "          docLink.innerHTML = docLinkHtml;\n",
              "          element.appendChild(docLink);\n",
              "        }\n",
              "      </script>\n",
              "    </div>\n",
              "  </div>\n",
              "  "
            ],
            "text/plain": [
              "                                            title_limpio       author_limpio  \\\n",
              "0                                            animal farm       george orwell   \n",
              "1                                     a clockwork orange     anthony burgess   \n",
              "2                                             the plague        albert camus   \n",
              "3              an enquiry concerning human understanding          david hume   \n",
              "4                                   a fire upon the deep        vernor vinge   \n",
              "...                                                  ...                 ...   \n",
              "16554                                     under wildwood         colin meloy   \n",
              "16555                                  transfer of power         vince flynn   \n",
              "16556                                            decoded               jay z   \n",
              "16557  america again re becoming the greatness we nev...     stephen colbert   \n",
              "16558                                          poor folk  fyodor dostoyevsky   \n",
              "\n",
              "              genres_limpio  \\\n",
              "0                roman clef   \n",
              "1           science fiction   \n",
              "2            existentialism   \n",
              "3                             \n",
              "4      hard science fiction   \n",
              "...                     ...   \n",
              "16554                         \n",
              "16555              thriller   \n",
              "16556         autobiography   \n",
              "16557                         \n",
              "16558      epistolary novel   \n",
              "\n",
              "                                          summary_limpio  \\\n",
              "0       old major the old boar on the manor farm call...   \n",
              "1       alex a teenager living in near future england...   \n",
              "2       the text of the plague is divided into five p...   \n",
              "3       the argument of the enquiry proceeds by a ser...   \n",
              "4       the novel posits that space around the milky ...   \n",
              "...                                                  ...   \n",
              "16554   prue mckeel having rescued her brother from t...   \n",
              "16555   the reader first meets rapp while he is doing...   \n",
              "16556   the book follows very rough chronological ord...   \n",
              "16557   colbert addresses topics including wall stree...   \n",
              "16558   makar devushkin and varvara dobroselova are s...   \n",
              "\n",
              "       summary_limpio_conteo  \\\n",
              "0                        952   \n",
              "1                       1036   \n",
              "2                       1130   \n",
              "3                       2829   \n",
              "4                        734   \n",
              "...                      ...   \n",
              "16554                    154   \n",
              "16555                    213   \n",
              "16556                    318   \n",
              "16557                     20   \n",
              "16558                    641   \n",
              "\n",
              "                                  summary_limpio_sp_nltk  \\\n",
              "0      old major old boar manor farm calls animals fa...   \n",
              "1      alex teenager living near future england leads...   \n",
              "2      text plague divided five parts town oran thous...   \n",
              "3      argument enquiry proceeds series incremental s...   \n",
              "4      novel posits space around milky way divided co...   \n",
              "...                                                  ...   \n",
              "16554  prue mckeel rescued brother dowager governess ...   \n",
              "16555  reader first meets rapp covert operation iran ...   \n",
              "16556  book follows rough chronological order switchi...   \n",
              "16557  colbert addresses topics including wall street...   \n",
              "16558  makar devushkin varvara dobroselova second cou...   \n",
              "\n",
              "                                 summary_limpio_sp_spacy  \\\n",
              "0      old major old boar manor farm calls animals fa...   \n",
              "1      alex teenager living near future england leads...   \n",
              "2      text plague divided parts town oran thousands ...   \n",
              "3      argument enquiry proceeds series incremental s...   \n",
              "4      novel posits space milky way divided concentri...   \n",
              "...                                                  ...   \n",
              "16554  prue mckeel having rescued brother dowager gov...   \n",
              "16555  reader meets rapp covert operation iran discov...   \n",
              "16556  book follows rough chronological order switchi...   \n",
              "16557  colbert addresses topics including wall street...   \n",
              "16558  makar devushkin varvara dobroselova second cou...   \n",
              "\n",
              "       summary_limpio_sp_nltk_conteo  summary_limpio_sp_spacy_conteo  \\\n",
              "0                                534                             508   \n",
              "1                                589                             573   \n",
              "2                                609                             571   \n",
              "3                               1429                            1241   \n",
              "4                                431                             416   \n",
              "...                              ...                             ...   \n",
              "16554                             85                              83   \n",
              "16555                            115                             105   \n",
              "16556                            155                             145   \n",
              "16557                             16                              16   \n",
              "16558                            328                             293   \n",
              "\n",
              "                                   summary_lemma_stemmer  \\\n",
              "0      old major the old boar on the manor farm call ...   \n",
              "1      alex a teenag live in near futur england lead ...   \n",
              "2      the text of the plagu be divid into five part ...   \n",
              "3      the argument of the enquiri proce by a seri of...   \n",
              "4      the novel posit that space around the milki wa...   \n",
              "...                                                  ...   \n",
              "16554  prue mckeel have rescu her brother from the do...   \n",
              "16555  the reader first meet rapp while he be do a co...   \n",
              "16556  the book follow veri rough chronolog order whi...   \n",
              "16557  colbert address topic includ wall street campa...   \n",
              "16558  makar devushkin and varvara dobroselova be sec...   \n",
              "\n",
              "                                           summary_lemma  \\\n",
              "0      old major the old boar on the manor farm call ...   \n",
              "1      alex a teenager live in near future england le...   \n",
              "2      the text of the plague be divide into five par...   \n",
              "3      the argument of the enquiry proceed by a serie...   \n",
              "4      the novel posit that space around the milky wa...   \n",
              "...                                                  ...   \n",
              "16554  prue mckeel having rescue her brother from the...   \n",
              "16555  the reader first meet rapp while he be do a co...   \n",
              "16556  the book follow very rough chronological order...   \n",
              "16557  colbert address topic include wall street camp...   \n",
              "16558  makar devushkin and varvara dobroselova be sec...   \n",
              "\n",
              "                                         summary_stemmer  \n",
              "0      old major the old boar on the manor farm call ...  \n",
              "1      alex a teenag live in near futur england lead ...  \n",
              "2      the text of the plagu is divid into five part ...  \n",
              "3      the argument of the enquiri proce by a seri of...  \n",
              "4      the novel posit that space around the milki wa...  \n",
              "...                                                  ...  \n",
              "16554  prue mckeel have rescu her brother from the do...  \n",
              "16555  the reader first meet rapp while he is do a co...  \n",
              "16556  the book follow veri rough chronolog order whi...  \n",
              "16557  colbert address topic includ wall street campa...  \n",
              "16558  makar devushkin and varvara dobroselova are se...  \n",
              "\n",
              "[16559 rows x 12 columns]"
            ]
          },
          "execution_count": 26,
          "metadata": {},
          "output_type": "execute_result"
        }
      ],
      "source": [
        "df_str"
      ]
    },
    {
      "cell_type": "code",
      "execution_count": null,
      "metadata": {
        "id": "tLQw-shf109k"
      },
      "outputs": [],
      "source": []
    }
  ],
  "metadata": {
    "colab": {
      "provenance": []
    },
    "kernelspec": {
      "display_name": "Python 3 (ipykernel)",
      "language": "python",
      "name": "python3"
    },
    "language_info": {
      "codemirror_mode": {
        "name": "ipython",
        "version": 3
      },
      "file_extension": ".py",
      "mimetype": "text/x-python",
      "name": "python",
      "nbconvert_exporter": "python",
      "pygments_lexer": "ipython3",
      "version": "3.9.12"
    }
  },
  "nbformat": 4,
  "nbformat_minor": 0
}
